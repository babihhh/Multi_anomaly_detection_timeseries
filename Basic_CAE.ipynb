{
 "cells": [
  {
   "cell_type": "markdown",
   "metadata": {},
   "source": [
    "### 1. Data Loda"
   ]
  },
  {
   "cell_type": "code",
   "execution_count": 4,
   "metadata": {},
   "outputs": [],
   "source": [
    "import pandas as pd\n",
    "import numpy as np "
   ]
  },
  {
   "cell_type": "code",
   "execution_count": 6,
   "metadata": {
    "scrolled": true
   },
   "outputs": [],
   "source": [
    "train_data = pd.read_pickle('./raw_data/train.pickle')\n",
    "test_data = pd.read_pickle('./raw_data/test.pickle')"
   ]
  },
  {
   "cell_type": "code",
   "execution_count": 7,
   "metadata": {},
   "outputs": [],
   "source": [
    "num_data = train_data.cust_ip_no.value_counts()\n",
    "ip_list = []\n",
    "for i in num_data.index:\n",
    "    ip_list.append(str(i))\n",
    "    \n",
    "    \n",
    "using_ip = []\n",
    "for i, j in num_data.iteritems():\n",
    "    if j >= 10079:\n",
    "        using_ip.append(i)\n",
    "        "
   ]
  },
  {
   "cell_type": "code",
   "execution_count": 9,
   "metadata": {},
   "outputs": [
    {
     "name": "stdout",
     "output_type": "stream",
     "text": [
      "[8187.0, 11784.0, 10580.0, 10515.0, 10468.0, 9366.0, 10630.0, 10683.0, 9365.0, 8938.0, 8923.0, 8902.0, 11654.0, 8879.0, 10554.0, 11707.0, 8860.0, 11837.0, 8511.0, 8257.0, 12413.0, 8258.0, 8259.0, 12243.0, 11983.0, 8768.0, 11857.0, 8182.0]\n",
      "28\n"
     ]
    }
   ],
   "source": [
    "# 총 28개의 ip 실험\n",
    "print(using_ip)\n",
    "print(len(using_ip))"
   ]
  },
  {
   "cell_type": "code",
   "execution_count": 39,
   "metadata": {},
   "outputs": [
    {
     "name": "stdout",
     "output_type": "stream",
     "text": [
      "[8187.0, 11784.0, 10580.0, 10515.0, 10468.0, 9366.0, 10630.0, 10683.0, 9365.0, 8938.0, 8923.0, 8902.0, 11654.0, 8879.0, 10554.0, 11707.0, 8860.0, 11837.0, 8511.0, 8257.0, 12413.0, 8258.0, 8259.0, 12243.0, 11983.0, 8768.0, 11857.0, 8182.0, 8939]\n"
     ]
    }
   ],
   "source": [
    "# ddos 이력이 있는 ip 8939 추가 \n",
    "using_ip.extend([8939])\n",
    "print(using_ip)"
   ]
  },
  {
   "cell_type": "code",
   "execution_count": 43,
   "metadata": {},
   "outputs": [],
   "source": [
    "train_df = train_data[train_data.cust_ip_no.isin(using_ip)]\n",
    "test_df = test_data[test_data.cust_ip_no.isin(using_ip)] "
   ]
  },
  {
   "cell_type": "code",
   "execution_count": 44,
   "metadata": {},
   "outputs": [
    {
     "name": "stdout",
     "output_type": "stream",
     "text": [
      "[8938. 9365. 8923. 8939. 8879.]\n",
      "[8938. 8923. 8939.]\n"
     ]
    }
   ],
   "source": [
    "print(train_df[train_df.event == 1].cust_ip_no.unique())\n",
    "print(test_df[test_df.event == 1].cust_ip_no.unique())"
   ]
  },
  {
   "cell_type": "code",
   "execution_count": 45,
   "metadata": {},
   "outputs": [],
   "source": [
    "train_list = [] \n",
    "for i in using_ip:\n",
    "    df = train_df[train_df.cust_ip_no == i]\n",
    "    df.reset_index(drop=True, inplace=True) \n",
    "    train_list.append(df)\n",
    "    \n",
    "\n",
    "test_list = []\n",
    "for i in using_ip:\n",
    "    df = test_df[test_df.cust_ip_no == i]\n",
    "    df.reset_index(drop=True, inplace=True)\n",
    "    test_list.append(df)    "
   ]
  },
  {
   "cell_type": "markdown",
   "metadata": {},
   "source": [
    "### 2. Data preprocessing :  create sequence data, remove gap data"
   ]
  },
  {
   "cell_type": "code",
   "execution_count": 46,
   "metadata": {},
   "outputs": [],
   "source": [
    "from datetime import timedelta, datetime\n",
    "\n",
    "# train data preprocessing\n",
    "gap_dic = {}\n",
    "for ip in range(len(train_list)):\n",
    "    gap_list = []\n",
    "    for data in range(len(train_list[ip])-1):\n",
    "        gap = (datetime.strptime(str(train_list[ip].stamp_inserted[data+1]),'%Y%m%d%H%M%S')) - (datetime.strptime(str(train_list[ip].stamp_inserted[data]),'%Y%m%d%H%M%S'))\n",
    "        if gap > timedelta(minutes=1):\n",
    "            gap_list.append((data))\n",
    "    gap_dic[train_list[ip].cust_ip_no[0]] = gap_list\n",
    "\n",
    "    \n",
    "for ip in gap_dic.keys():\n",
    "    gap_list = []\n",
    "    for i in gap_dic[ip] :\n",
    "        gap_num = i - 5\n",
    "        for j in range(6):\n",
    "            gap_list.append(gap_num+j)\n",
    "    gap_dic[ip] = gap_list\n",
    "\n",
    "    \n",
    "# test data preprocessing    \n",
    "gap_dic_test = {}\n",
    "for ip in range(len(test_list)):\n",
    "    gap_list = []\n",
    "    for data in range(len(test_list[ip])-1):\n",
    "        gap = (datetime.strptime(str(test_list[ip].stamp_inserted[data+1]),'%Y%m%d%H%M%S')) - (datetime.strptime(str(test_list[ip].stamp_inserted[data]),'%Y%m%d%H%M%S'))\n",
    "        if gap > timedelta(minutes=1):\n",
    "            gap_list.append((data))\n",
    "    gap_dic_test[test_list[ip].cust_ip_no[0]] = gap_list\n",
    "\n",
    "    \n",
    "for ip in gap_dic_test.keys():\n",
    "    gap_list = []\n",
    "    for i in gap_dic_test[ip] :\n",
    "        gap_num = i -5\n",
    "        for j in range(6):\n",
    "            gap_list.append(gap_num+j)\n",
    "    gap_dic_test[ip] = gap_list\n"
   ]
  },
  {
   "cell_type": "code",
   "execution_count": 47,
   "metadata": {},
   "outputs": [
    {
     "name": "stderr",
     "output_type": "stream",
     "text": [
      "100%|██████████████████████████████████████████████████████████████████████████████████| 29/29 [11:10<00:00, 23.13s/it]\n"
     ]
    }
   ],
   "source": [
    "# train: apply log function & diff\n",
    "\n",
    "from tqdm import tqdm\n",
    "seq_time = 6\n",
    "iv = [ 'bytes', 'pkts',\n",
    "       'sip_entropy', 'dip_entropy', 'spt_entropy', 'dpt_entropy',\n",
    "       'proto_entropy', 'icmp_ratio', 'tcp_ratio', 'udp_ratio',\n",
    "       'tcp_flags_entropy', 'domestic_ratio']\n",
    "log_trans = [ 'bytes', 'pkts',\n",
    "       'sip_entropy', 'dip_entropy', 'spt_entropy', 'dpt_entropy']\n",
    "\n",
    "features = len(iv)\n",
    "\n",
    "normal_X = []\n",
    "normal_y = [] \n",
    "\n",
    "for j in tqdm(range(len(train_list))):\n",
    "    normal_data = pd.DataFrame(columns=iv)\n",
    "    normal_label = []\n",
    "    ip = list(gap_dic.keys())[j]\n",
    "    gap = gap_dic[ip]\n",
    "    for i in range(len(train_list[j]) - seq_time):\n",
    "        if i not in gap:\n",
    "            input_x = train_list[j].iloc[i:i+seq_time,3:-1]\n",
    "            input_x[log_trans] = input_x[log_trans]+.1 \n",
    "            input_x[log_trans] = input_x[log_trans].apply(np.log)\n",
    "            input_x = input_x.diff().iloc[1:,:]\n",
    "            label = train_list[j].iloc[i+seq_time-1, -1]\n",
    "            ip_NO = train_list[j].iloc[i+seq_time-1, 2]\n",
    "            time = train_list[j].iloc[i+seq_time-1, 0]\n",
    "\n",
    "            if label == 0:\n",
    "                normal_data = pd.concat([normal_data, input_x], axis=0)\n",
    "                ip_label_set = (time, ip_NO, label)            \n",
    "                normal_label.append(ip_label_set) \n",
    "\n",
    "                \n",
    "    normal_X.append(normal_data) \n",
    "    normal_y.append(normal_label)     "
   ]
  },
  {
   "cell_type": "code",
   "execution_count": 48,
   "metadata": {},
   "outputs": [
    {
     "name": "stderr",
     "output_type": "stream",
     "text": [
      "100%|██████████████████████████████████████████████████████████████████████████████████| 29/29 [11:52<00:00, 24.57s/it]\n"
     ]
    }
   ],
   "source": [
    "# test: apply log function & diff\n",
    "from tqdm import tqdm\n",
    "\n",
    "seq_time = 6\n",
    "iv = [ 'bytes', 'pkts',\n",
    "       'sip_entropy', 'dip_entropy', 'spt_entropy', 'dpt_entropy',\n",
    "       'proto_entropy', 'icmp_ratio', 'tcp_ratio', 'udp_ratio',\n",
    "       'tcp_flags_entropy', 'domestic_ratio']\n",
    "log_trans = [ 'bytes', 'pkts',\n",
    "       'sip_entropy', 'dip_entropy', 'spt_entropy', 'dpt_entropy',\n",
    "       'tcp_flags_entropy', 'domestic_ratio']\n",
    "\n",
    "features = len(iv)\n",
    "\n",
    "X_ts = []\n",
    "y_ts = [] \n",
    "\n",
    "\n",
    "for j in tqdm(range(len(test_list))):\n",
    "    ts_data = pd.DataFrame(columns=iv)\n",
    "    ts_label = []\n",
    "    ip = list(gap_dic_test.keys())[j]\n",
    "    gap = gap_dic_test[ip]\n",
    "    \n",
    "    \n",
    "    for i in range(len(test_list[j]) - seq_time):\n",
    "        if i not in gap:\n",
    "            input_x = test_list[j].iloc[i:i+seq_time,3:-1]\n",
    "            input_x[log_trans] = input_x[log_trans]+.1 \n",
    "            input_x[log_trans] = input_x[log_trans].apply(np.log)\n",
    "            input_x = input_x.diff().iloc[1:,:] \n",
    "            label = test_list[j].iloc[i+seq_time-1, -1]\n",
    "            ip_NO = test_list[j].iloc[i+seq_time-1, 2]  \n",
    "            time = test_list[j].iloc[i+seq_time-1, 0]\n",
    "            \n",
    "            ts_data = pd.concat([ts_data, input_x], axis=0)\n",
    "            ip_label_set = (time, ip_NO, label)            \n",
    "            ts_label.append(ip_label_set)         \n",
    "        else: \n",
    "            pass\n",
    "            \n",
    "    X_ts.append(ts_data) \n",
    "    y_ts.append(ts_label) \n",
    "    "
   ]
  },
  {
   "cell_type": "code",
   "execution_count": 49,
   "metadata": {},
   "outputs": [],
   "source": [
    "# train: data scaling \n",
    "from sklearn import preprocessing\n",
    "\n",
    "X_normal = pd.DataFrame(columns=iv)\n",
    "for i in normal_X:\n",
    "    i = i.fillna(0)\n",
    "    tmp_input = pd.DataFrame(preprocessing.scale(i.values), columns=iv)\n",
    "    X_normal = pd.concat([X_normal, tmp_input], axis=0)\n",
    "\n",
    "y_normal = []\n",
    "for i in normal_y:\n",
    "    y_normal.extend(i)\n"
   ]
  },
  {
   "cell_type": "code",
   "execution_count": 50,
   "metadata": {},
   "outputs": [],
   "source": [
    "# test: data scaling\n",
    "from sklearn.preprocessing import MinMaxScaler\n",
    "from sklearn import preprocessing\n",
    "\n",
    "X_ts_ = pd.DataFrame(columns=iv)\n",
    "for i in X_ts:\n",
    "    i = i.fillna(0)\n",
    "    tmp_input = pd.DataFrame(preprocessing.scale(i.values), columns=iv)\n",
    "    X_ts_ = pd.concat([X_ts_, tmp_input], axis=0)\n",
    "\n",
    "y_ts_ = []\n",
    "for i in y_ts:\n",
    "    y_ts_.extend(i)\n"
   ]
  },
  {
   "cell_type": "code",
   "execution_count": 51,
   "metadata": {},
   "outputs": [
    {
     "data": {
      "text/html": [
       "<div>\n",
       "<style scoped>\n",
       "    .dataframe tbody tr th:only-of-type {\n",
       "        vertical-align: middle;\n",
       "    }\n",
       "\n",
       "    .dataframe tbody tr th {\n",
       "        vertical-align: top;\n",
       "    }\n",
       "\n",
       "    .dataframe thead th {\n",
       "        text-align: right;\n",
       "    }\n",
       "</style>\n",
       "<table border=\"1\" class=\"dataframe\">\n",
       "  <thead>\n",
       "    <tr style=\"text-align: right;\">\n",
       "      <th></th>\n",
       "      <th>time</th>\n",
       "      <th>ip</th>\n",
       "      <th>label</th>\n",
       "    </tr>\n",
       "  </thead>\n",
       "  <tbody>\n",
       "    <tr>\n",
       "      <th>0</th>\n",
       "      <td>20200801000500</td>\n",
       "      <td>8187.0</td>\n",
       "      <td>0.0</td>\n",
       "    </tr>\n",
       "    <tr>\n",
       "      <th>1</th>\n",
       "      <td>20200801000600</td>\n",
       "      <td>8187.0</td>\n",
       "      <td>0.0</td>\n",
       "    </tr>\n",
       "    <tr>\n",
       "      <th>2</th>\n",
       "      <td>20200801000700</td>\n",
       "      <td>8187.0</td>\n",
       "      <td>0.0</td>\n",
       "    </tr>\n",
       "    <tr>\n",
       "      <th>3</th>\n",
       "      <td>20200801000800</td>\n",
       "      <td>8187.0</td>\n",
       "      <td>0.0</td>\n",
       "    </tr>\n",
       "    <tr>\n",
       "      <th>4</th>\n",
       "      <td>20200801000900</td>\n",
       "      <td>8187.0</td>\n",
       "      <td>0.0</td>\n",
       "    </tr>\n",
       "  </tbody>\n",
       "</table>\n",
       "</div>"
      ],
      "text/plain": [
       "             time      ip  label\n",
       "0  20200801000500  8187.0    0.0\n",
       "1  20200801000600  8187.0    0.0\n",
       "2  20200801000700  8187.0    0.0\n",
       "3  20200801000800  8187.0    0.0\n",
       "4  20200801000900  8187.0    0.0"
      ]
     },
     "execution_count": 51,
     "metadata": {},
     "output_type": "execute_result"
    }
   ],
   "source": [
    "# data check\n",
    "X_normal = X_normal.values.reshape(-1, 5, 12) \n",
    "train_y_df = pd.DataFrame(y_normal, columns=['time','ip','label'])\n",
    "train_y_df.head()"
   ]
  },
  {
   "cell_type": "code",
   "execution_count": 52,
   "metadata": {},
   "outputs": [],
   "source": [
    "# test df\n",
    "X_ts = X_ts_.values.reshape(-1, 5, 12) \n",
    "y_ts = pd.DataFrame(y_ts_, columns=['time','ip','label'])"
   ]
  },
  {
   "cell_type": "markdown",
   "metadata": {},
   "source": [
    "### 3. CNN AE"
   ]
  },
  {
   "cell_type": "code",
   "execution_count": 139,
   "metadata": {},
   "outputs": [],
   "source": [
    "from tensorflow.keras import Model, models, optimizers, utils, layers\n",
    "from keras.layers import LSTM, Dense, Activation, Conv1D, Dropout, Conv1DTranspose, BatchNormalization, RepeatVector\n",
    "from keras.models import load_model\n",
    "import keras.backend as K\n",
    "\n",
    "adam = optimizers.Adam(lr=1e-5)\n",
    "kernel_s = 3 \n",
    "seq_time = 5\n",
    "\n",
    "\n",
    "x = layers.Input(shape=(seq_time, features))\n",
    "K.clear_session()\n",
    "enc = models.Sequential([x,\n",
    "    layers.Conv1D(filters=12, kernel_size=kernel_s, padding='same', strides=1),\n",
    "    layers.BatchNormalization(),\n",
    "    Activation('relu'),\n",
    "    layers.Conv1D(filters=48, kernel_size=kernel_s,  padding='same', strides=1),\n",
    "    layers.BatchNormalization(), \n",
    "    Activation('relu'),\n",
    "    layers.Conv1D(filters=12, kernel_size=kernel_s, padding='same', strides=1)])\n",
    "\n",
    "z = enc(x)\n",
    "\n",
    "dec =  models.Sequential([\n",
    "    layers.Conv1DTranspose(filters=12, kernel_size=kernel_s, padding='same', strides=1),\n",
    "   # layers.BatchNormalization(),\n",
    "    Activation('relu'),\n",
    "    layers.Conv1DTranspose(filters=48, kernel_size=kernel_s, padding='same', strides=1),\n",
    "    #layers.BatchNormalization(),\n",
    "    Activation('relu'),\n",
    "    layers.Conv1DTranspose(filters=12, kernel_size=kernel_s, padding='same'),\n",
    "]) \n",
    "\n",
    "x_hat = dec(z) \n",
    "\n",
    "cnn_ae = Model(x, x_hat) \n",
    "cnn_ae.compile(optimizer=adam, loss='mse') \n"
   ]
  },
  {
   "cell_type": "code",
   "execution_count": 140,
   "metadata": {},
   "outputs": [
    {
     "name": "stdout",
     "output_type": "stream",
     "text": [
      "Epoch 1/30\n",
      "4104/4104 - 8s - loss: 0.8930 - val_loss: 0.7533\n",
      "Epoch 2/30\n",
      "4104/4104 - 6s - loss: 0.6749 - val_loss: 0.6528\n",
      "Epoch 3/30\n",
      "4104/4104 - 6s - loss: 0.5959 - val_loss: 0.5800\n",
      "Epoch 4/30\n",
      "4104/4104 - 6s - loss: 0.5342 - val_loss: 0.5226\n",
      "Epoch 5/30\n",
      "4104/4104 - 6s - loss: 0.4886 - val_loss: 0.4823\n",
      "Epoch 6/30\n",
      "4104/4104 - 6s - loss: 0.4535 - val_loss: 0.4523\n",
      "Epoch 7/30\n",
      "4104/4104 - 6s - loss: 0.4267 - val_loss: 0.4279\n",
      "Epoch 8/30\n",
      "4104/4104 - 6s - loss: 0.4035 - val_loss: 0.4070\n",
      "Epoch 9/30\n",
      "4104/4104 - 6s - loss: 0.3834 - val_loss: 0.3888\n",
      "Epoch 10/30\n",
      "4104/4104 - 6s - loss: 0.3658 - val_loss: 0.3726\n",
      "Epoch 11/30\n",
      "4104/4104 - 6s - loss: 0.3500 - val_loss: 0.3591\n",
      "Epoch 12/30\n",
      "4104/4104 - 6s - loss: 0.3368 - val_loss: 0.3453\n",
      "Epoch 13/30\n",
      "4104/4104 - 6s - loss: 0.3240 - val_loss: 0.3335\n",
      "Epoch 14/30\n",
      "4104/4104 - 6s - loss: 0.3130 - val_loss: 0.3235\n",
      "Epoch 15/30\n",
      "4104/4104 - 6s - loss: 0.3034 - val_loss: 0.3143\n",
      "Epoch 16/30\n",
      "4104/4104 - 6s - loss: 0.2950 - val_loss: 0.3065\n",
      "Epoch 17/30\n",
      "4104/4104 - 6s - loss: 0.2869 - val_loss: 0.2987\n",
      "Epoch 18/30\n",
      "4104/4104 - 6s - loss: 0.2799 - val_loss: 0.2919\n",
      "Epoch 19/30\n",
      "4104/4104 - 6s - loss: 0.2733 - val_loss: 0.2861\n",
      "Epoch 20/30\n",
      "4104/4104 - 6s - loss: 0.2676 - val_loss: 0.2807\n",
      "Epoch 21/30\n",
      "4104/4104 - 6s - loss: 0.2625 - val_loss: 0.2753\n",
      "Epoch 22/30\n",
      "4104/4104 - 6s - loss: 0.2569 - val_loss: 0.2703\n",
      "Epoch 23/30\n",
      "4104/4104 - 6s - loss: 0.2521 - val_loss: 0.2655\n",
      "Epoch 24/30\n",
      "4104/4104 - 6s - loss: 0.2470 - val_loss: 0.2611\n",
      "Epoch 25/30\n",
      "4104/4104 - 6s - loss: 0.2435 - val_loss: 0.2580\n",
      "Epoch 26/30\n",
      "4104/4104 - 6s - loss: 0.2399 - val_loss: 0.2537\n",
      "Epoch 27/30\n",
      "4104/4104 - 6s - loss: 0.2353 - val_loss: 0.2494\n",
      "Epoch 28/30\n",
      "4104/4104 - 6s - loss: 0.2318 - val_loss: 0.2463\n",
      "Epoch 29/30\n",
      "4104/4104 - 6s - loss: 0.2284 - val_loss: 0.2428\n",
      "Epoch 30/30\n",
      "4104/4104 - 6s - loss: 0.2249 - val_loss: 0.2393\n"
     ]
    }
   ],
   "source": [
    "#25\n",
    "hist = cnn_ae.fit(X_normal, X_normal, epochs=30, validation_split=0.1, batch_size=64, shuffle=True, verbose=2)"
   ]
  },
  {
   "cell_type": "code",
   "execution_count": 147,
   "metadata": {},
   "outputs": [],
   "source": [
    "# from plotly.offline import plot, iplot \n",
    "# import plotly.graph_objects as go\n",
    "\n",
    "# loss = hist.history['loss'] \n",
    "# val_loss = hist.history['val_loss'] \n",
    "\n",
    "# fig = go.Figure()\n",
    "# fig.add_trace(go.Scatter(y=loss, mode='lines', name='loss')) \n",
    "# fig.add_trace(go.Scatter(y=val_loss, mode='lines', name='val_loss'))\n",
    "# fig.update_layout(height=400, width=600, title='loss of CAE')\n",
    "# fig.show() "
   ]
  },
  {
   "cell_type": "code",
   "execution_count": 142,
   "metadata": {},
   "outputs": [
    {
     "name": "stdout",
     "output_type": "stream",
     "text": [
      "       reconstruction_error     Label\n",
      "count         291779.000000  291779.0\n",
      "mean              -2.320022       0.0\n",
      "std                1.026889       0.0\n",
      "min               -5.691159       0.0\n",
      "25%               -2.956111       0.0\n",
      "50%               -2.307990       0.0\n",
      "75%               -1.676189       0.0\n",
      "max                5.665243       0.0\n",
      "0.7717926650735368\n"
     ]
    }
   ],
   "source": [
    "# try detecting with train set and setting the optimal threshold\n",
    "\n",
    "pred_x = cnn_ae.predict(X_normal).reshape(X_normal.shape[0],-1)\n",
    "real = X_normal.reshape(X_normal.shape[0], -1) \n",
    "log_mse = np.log(np.mean(np.power(real-pred_x, 2), axis=1)) \n",
    "mse = np.mean(np.power(real-pred_x, 2), axis=1)\n",
    "train_df_error = pd.DataFrame({'time':train_y_df.time, 'recon_size':mse, 'IP':train_y_df.ip, 'reconstruction_error':log_mse, 'Label':train_y_df.label})\n",
    "\n",
    "\n",
    "thr = train_df_error[['reconstruction_error','Label']].describe()\n",
    "error = sorted(train_df_error.reconstruction_error.values, reverse=True)\n",
    "\n",
    "up_to_99_5 = int(round(len(error) * 0.005,0)) \n",
    "up_to_99_5\n",
    "\n",
    "threshold = error[up_to_99_5]\n",
    "max_error = error[0]\n",
    "print(thr)\n",
    "print(threshold) "
   ]
  },
  {
   "cell_type": "code",
   "execution_count": 143,
   "metadata": {},
   "outputs": [
    {
     "name": "stdout",
     "output_type": "stream",
     "text": [
      "[[289164   1767]\n",
      " [     1     77]]\n",
      "              precision    recall  f1-score   support\n",
      "\n",
      "         0.0       1.00      0.99      1.00    290931\n",
      "         1.0       0.04      0.99      0.08        78\n",
      "\n",
      "    accuracy                           0.99    291009\n",
      "   macro avg       0.52      0.99      0.54    291009\n",
      "weighted avg       1.00      0.99      1.00    291009\n",
      "\n"
     ]
    }
   ],
   "source": [
    "# Model evaluation (batch 64, epoch 50) with upper 0.5%\n",
    "from sklearn.metrics import confusion_matrix, classification_report\n",
    "\n",
    "pred_x = cnn_ae.predict(X_ts).reshape(X_ts.shape[0],-1)\n",
    "real = X_ts.reshape(X_ts.shape[0], -1)\n",
    "log_mse = np.log(np.mean(np.power(real-pred_x, 2), axis=1))\n",
    "mse = np.mean(np.power(real-pred_x, 2), axis=1)\n",
    "test_df_error = pd.DataFrame({'time':y_ts.time, 'reconstruction_error':log_mse, 'recon_size':mse, 'Label':y_ts.label, 'IP':y_ts.ip})\n",
    "\n",
    "\n",
    "\n",
    "pred_y = [1 if e > threshold else 0 for e in test_df_error['reconstruction_error'].values]\n",
    "confusion_m = confusion_matrix(y_ts.label, pred_y)\n",
    "classification = classification_report(y_ts.label, pred_y)\n",
    "test_df_error['predicted_y'] = pred_y\n",
    "print(confusion_m)\n",
    "print(classification)\n"
   ]
  },
  {
   "cell_type": "code",
   "execution_count": 144,
   "metadata": {},
   "outputs": [
    {
     "data": {
      "image/png": "[encoded data removed]",
      "text/plain": [
       "<Figure size 432x288 with 1 Axes>"
      ]
     },
     "metadata": {
      "needs_background": "light"
     },
     "output_type": "display_data"
    }
   ],
   "source": [
    "import matplotlib.pyplot as plt\n",
    "from sklearn.metrics import classification_report, confusion_matrix, auc, roc_curve\n",
    "\n",
    "fpr, tpr, thresholds = roc_curve(test_df_error.Label, pred_y)\n",
    "roc_auc = auc(fpr, tpr)\n",
    "\n",
    "plt.figure() \n",
    "plt.plot(fpr, tpr, label='ROC curve (area = %0.2f)' % roc_auc)\n",
    "plt.plot([0, 1], [0, 1], 'k--')\n",
    "plt.xlim([0.0, 1.0])\n",
    "plt.ylim([0.0, 1.05])\n",
    "plt.xlabel('False Positive Rate')\n",
    "plt.ylabel('True Positive Rate')\n",
    "plt.title('Receiver operating characteristic example')\n",
    "plt.legend(loc=\"lower right\") \n",
    "plt.show()"
   ]
  },
  {
   "cell_type": "code",
   "execution_count": 146,
   "metadata": {},
   "outputs": [],
   "source": [
    "# # comparing the reconstruction distribution \n",
    "# import plotly.figure_factory as ff\n",
    "# from plotly.offline import plot, iplot \n",
    "\n",
    "# test_ddos = test_df_error[test_df_error.Label ==1 ]\n",
    "# test_normal = test_df_error[test_df_error.Label ==0 ]\n",
    "# data = [train_df_error.reconstruction_error, test_ddos.reconstruction_error, test_normal.reconstruction_error]\n",
    "# group = ['train normal', 'test ddos', 'test normal'] \n",
    "# fig = ff.create_distplot(data, group, bin_size=[.2,.2,.2])\n",
    "# fig.update_layout(title='Reconstruction distribution') \n",
    "# fig.show() "
   ]
  },
  {
   "cell_type": "code",
   "execution_count": null,
   "metadata": {},
   "outputs": [],
   "source": []
  },
  {
   "cell_type": "code",
   "execution_count": null,
   "metadata": {},
   "outputs": [],
   "source": []
  },
  {
   "cell_type": "code",
   "execution_count": null,
   "metadata": {},
   "outputs": [],
   "source": []
  },
  {
   "cell_type": "code",
   "execution_count": null,
   "metadata": {},
   "outputs": [],
   "source": []
  },
  {
   "cell_type": "code",
   "execution_count": null,
   "metadata": {},
   "outputs": [],
   "source": []
  },
  {
   "cell_type": "code",
   "execution_count": null,
   "metadata": {},
   "outputs": [],
   "source": []
  },
  {
   "cell_type": "code",
   "execution_count": null,
   "metadata": {},
   "outputs": [],
   "source": []
  }
 ],
 "metadata": {
  "kernelspec": {
   "display_name": "Python 3",
   "language": "python",
   "name": "python3"
  },
  "language_info": {
   "codemirror_mode": {
    "name": "ipython",
    "version": 3
   },
   "file_extension": ".py",
   "mimetype": "text/x-python",
   "name": "python",
   "nbconvert_exporter": "python",
   "pygments_lexer": "ipython3",
   "version": "3.8.5"
  }
 },
 "nbformat": 4,
 "nbformat_minor": 4
}
