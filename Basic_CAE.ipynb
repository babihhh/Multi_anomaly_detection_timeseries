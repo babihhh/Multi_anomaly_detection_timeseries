{
 "cells": [
  {
   "cell_type": "markdown",
   "metadata": {},
   "source": [
    "### 1. Data Loda"
   ]
  },
  {
   "cell_type": "code",
   "execution_count": 1,
   "metadata": {},
   "outputs": [],
   "source": [
    "import pandas as pd\n",
    "import numpy as np "
   ]
  },
  {
   "cell_type": "code",
   "execution_count": 2,
   "metadata": {
    "scrolled": true
   },
   "outputs": [],
   "source": [
    "train_data = pd.read_pickle('./raw_data/train.pickle')\n",
    "test_data = pd.read_pickle('./raw_data/test.pickle')"
   ]
  },
  {
   "cell_type": "code",
   "execution_count": 3,
   "metadata": {},
   "outputs": [],
   "source": [
    "num_data = train_data.cust_ip_no.value_counts()\n",
    "ip_list = []\n",
    "for i in num_data.index:\n",
    "    ip_list.append(str(i))\n",
    "    \n",
    "    \n",
    "using_ip = []\n",
    "for i, j in num_data.iteritems():\n",
    "    if j >= 10079:\n",
    "        using_ip.append(i)\n",
    "        "
   ]
  },
  {
   "cell_type": "code",
   "execution_count": 4,
   "metadata": {},
   "outputs": [
    {
     "name": "stdout",
     "output_type": "stream",
     "text": [
      "[8187.0, 11784.0, 10580.0, 10515.0, 10468.0, 9366.0, 10630.0, 10683.0, 9365.0, 8938.0, 8923.0, 8902.0, 11654.0, 8879.0, 10554.0, 11707.0, 8860.0, 11837.0, 8511.0, 8257.0, 12413.0, 8258.0, 8259.0, 12243.0, 11983.0, 8768.0, 11857.0, 8182.0]\n",
      "28\n"
     ]
    }
   ],
   "source": [
    "# 총 28개의 ip 실험\n",
    "print(using_ip)\n",
    "print(len(using_ip))"
   ]
  },
  {
   "cell_type": "code",
   "execution_count": 5,
   "metadata": {},
   "outputs": [
    {
     "name": "stdout",
     "output_type": "stream",
     "text": [
      "[8187.0, 11784.0, 10580.0, 10515.0, 10468.0, 9366.0, 10630.0, 10683.0, 9365.0, 8938.0, 8923.0, 8902.0, 11654.0, 8879.0, 10554.0, 11707.0, 8860.0, 11837.0, 8511.0, 8257.0, 12413.0, 8258.0, 8259.0, 12243.0, 11983.0, 8768.0, 11857.0, 8182.0, 8939]\n"
     ]
    }
   ],
   "source": [
    "# ddos 이력이 있는 ip 8939 추가 \n",
    "using_ip.extend([8939])\n",
    "print(using_ip)"
   ]
  },
  {
   "cell_type": "code",
   "execution_count": 6,
   "metadata": {},
   "outputs": [],
   "source": [
    "train_df = train_data[train_data.cust_ip_no.isin(using_ip)]\n",
    "test_df = test_data[test_data.cust_ip_no.isin(using_ip)] "
   ]
  },
  {
   "cell_type": "code",
   "execution_count": 7,
   "metadata": {},
   "outputs": [
    {
     "name": "stdout",
     "output_type": "stream",
     "text": [
      "[8938. 9365. 8923. 8939. 8879.]\n",
      "[8938. 8923. 8939.]\n"
     ]
    }
   ],
   "source": [
    "print(train_df[train_df.event == 1].cust_ip_no.unique())\n",
    "print(test_df[test_df.event == 1].cust_ip_no.unique())"
   ]
  },
  {
   "cell_type": "code",
   "execution_count": 8,
   "metadata": {},
   "outputs": [],
   "source": [
    "train_list = [] \n",
    "for i in using_ip:\n",
    "    df = train_df[train_df.cust_ip_no == i]\n",
    "    df.reset_index(drop=True, inplace=True) \n",
    "    train_list.append(df)\n",
    "    \n",
    "\n",
    "test_list = []\n",
    "for i in using_ip:\n",
    "    df = test_df[test_df.cust_ip_no == i]\n",
    "    df.reset_index(drop=True, inplace=True)\n",
    "    test_list.append(df)    "
   ]
  },
  {
   "cell_type": "markdown",
   "metadata": {},
   "source": [
    "### 2. Data preprocessing :  create sequence data, remove gap data"
   ]
  },
  {
   "cell_type": "code",
   "execution_count": 9,
   "metadata": {},
   "outputs": [],
   "source": [
    "from datetime import timedelta, datetime\n",
    "\n",
    "# train data preprocessing\n",
    "gap_dic = {}\n",
    "for ip in range(len(train_list)):\n",
    "    gap_list = []\n",
    "    for data in range(len(train_list[ip])-1):\n",
    "        gap = (datetime.strptime(str(train_list[ip].stamp_inserted[data+1]),'%Y%m%d%H%M%S')) - (datetime.strptime(str(train_list[ip].stamp_inserted[data]),'%Y%m%d%H%M%S'))\n",
    "        if gap > timedelta(minutes=1):\n",
    "            gap_list.append((data))\n",
    "    gap_dic[train_list[ip].cust_ip_no[0]] = gap_list\n",
    "\n",
    "    \n",
    "for ip in gap_dic.keys():\n",
    "    gap_list = []\n",
    "    for i in gap_dic[ip] :\n",
    "        gap_num = i - 5\n",
    "        for j in range(6):\n",
    "            gap_list.append(gap_num+j)\n",
    "    gap_dic[ip] = gap_list\n",
    "\n",
    "    \n",
    "# test data preprocessing    \n",
    "gap_dic_test = {}\n",
    "for ip in range(len(test_list)):\n",
    "    gap_list = []\n",
    "    for data in range(len(test_list[ip])-1):\n",
    "        gap = (datetime.strptime(str(test_list[ip].stamp_inserted[data+1]),'%Y%m%d%H%M%S')) - (datetime.strptime(str(test_list[ip].stamp_inserted[data]),'%Y%m%d%H%M%S'))\n",
    "        if gap > timedelta(minutes=1):\n",
    "            gap_list.append((data))\n",
    "    gap_dic_test[test_list[ip].cust_ip_no[0]] = gap_list\n",
    "\n",
    "    \n",
    "for ip in gap_dic_test.keys():\n",
    "    gap_list = []\n",
    "    for i in gap_dic_test[ip] :\n",
    "        gap_num = i -5\n",
    "        for j in range(6):\n",
    "            gap_list.append(gap_num+j)\n",
    "    gap_dic_test[ip] = gap_list\n"
   ]
  },
  {
   "cell_type": "code",
   "execution_count": 46,
   "metadata": {},
   "outputs": [
    {
     "name": "stderr",
     "output_type": "stream",
     "text": [
      "100%|██████████████████████████████████████████████████████████████████████████████████| 29/29 [04:11<00:00,  8.67s/it]\n"
     ]
    }
   ],
   "source": [
    "# train data\n",
    "\n",
    "from tqdm import tqdm\n",
    "seq_time = 6\n",
    "iv = [ 'bytes', 'pkts',\n",
    "       'sip_entropy', 'dip_entropy', 'spt_entropy', 'dpt_entropy',\n",
    "       'proto_entropy', 'icmp_ratio', 'tcp_ratio', 'udp_ratio',\n",
    "       'tcp_flags_entropy', 'domestic_ratio']\n",
    "\n",
    "features = len(iv)\n",
    "\n",
    "X_tr = []\n",
    "y_tr = [] \n",
    "\n",
    "\n",
    "\n",
    "for j in tqdm(range(len(train_list))):\n",
    "    tr_data = pd.DataFrame(columns=iv)\n",
    "    tr_label = []\n",
    "    \n",
    "    ip = list(gap_dic.keys())[j]\n",
    "    gap = gap_dic[ip]\n",
    "    for i in range(len(train_list[j]) - seq_time):\n",
    "        if i not in gap:\n",
    "            input_x = train_list[j].iloc[i:i+seq_time,3:-1]\n",
    "            input_x = input_x.diff().iloc[1:,:]\n",
    "            label = train_list[j].iloc[i+seq_time-1, -1]\n",
    "            ip_NO = train_list[j].iloc[i+seq_time-1, 2]\n",
    "            time = train_list[j].iloc[i+seq_time-1, 0]\n",
    "\n",
    "            \n",
    "            tr_data = pd.concat([tr_data, input_x], axis=0)\n",
    "            ip_label_set = (time, ip_NO, label)            \n",
    "            tr_label.append(ip_label_set) \n",
    "            \n",
    "    X_tr.append(tr_data) \n",
    "    y_tr.append(tr_label)     \n",
    "    "
   ]
  },
  {
   "cell_type": "code",
   "execution_count": 71,
   "metadata": {},
   "outputs": [
    {
     "name": "stderr",
     "output_type": "stream",
     "text": [
      "100%|██████████████████████████████████████████████████████████████████████████████████| 29/29 [04:05<00:00,  8.47s/it]\n"
     ]
    }
   ],
   "source": [
    "# test data\n",
    "\n",
    "seq_time = 6\n",
    "iv = [ 'bytes', 'pkts',\n",
    "       'sip_entropy', 'dip_entropy', 'spt_entropy', 'dpt_entropy',\n",
    "       'proto_entropy', 'icmp_ratio', 'tcp_ratio', 'udp_ratio',\n",
    "       'tcp_flags_entropy', 'domestic_ratio']\n",
    "\n",
    "features = len(iv)\n",
    "\n",
    "X_ts = []\n",
    "y_ts = [] \n",
    "\n",
    "\n",
    "for j in tqdm(range(len(test_list))):\n",
    "    ts_data = pd.DataFrame(columns=iv)\n",
    "    ts_label = []\n",
    "    ip = list(gap_dic_test.keys())[j]\n",
    "    gap = gap_dic_test[ip]\n",
    "    \n",
    "    \n",
    "    for i in range(len(test_list[j]) - seq_time):\n",
    "        if i not in gap:\n",
    "            input_x = test_list[j].iloc[i:i+seq_time,3:-1]\n",
    "            input_x = input_x.diff().iloc[1:,:] \n",
    "            label = test_list[j].iloc[i+seq_time-1, -1]\n",
    "            ip_NO = test_list[j].iloc[i+seq_time-1, 2]  \n",
    "            time = test_list[j].iloc[i+seq_time-1, 0]\n",
    "            \n",
    "            ts_data = pd.concat([ts_data, input_x], axis=0)\n",
    "            ip_label_set = (time, ip_NO, label)            \n",
    "            ts_label.append(ip_label_set)         \n",
    "        else: \n",
    "            pass\n",
    "            \n",
    "    X_ts.append(ts_data) \n",
    "    y_ts.append(ts_label) \n",
    "    "
   ]
  },
  {
   "cell_type": "code",
   "execution_count": 47,
   "metadata": {},
   "outputs": [],
   "source": [
    "# train\n",
    "from sklearn.preprocessing import StandardScaler\n",
    "scaler = StandardScaler()\n",
    "scaler_list = []\n",
    "\n",
    "\n",
    "X_tr_ = pd.DataFrame(columns=iv)\n",
    "for i in X_tr:\n",
    "    scaler = StandardScaler()\n",
    "    tmp_input = pd.DataFrame(scaler.fit_transform(i.values), columns=iv)\n",
    "    scaler_list.append(scaler)\n",
    "    X_tr_ = pd.concat([X_tr_, tmp_input], axis=0)\n",
    "\n",
    "y_tr_ = []\n",
    "for i in y_tr:\n",
    "    y_tr_.extend(i)\n",
    "\n",
    "\n",
    " # data check\n",
    "X_tr_ = X_tr_.values.reshape(-1, 5, 12) \n",
    "train_y_df = pd.DataFrame(y_tr_, columns=['time','ip','label'])\n",
    "\n",
    "normal_idx = train_y_df[train_y_df.label==0].index\n",
    "X_normal = X_tr_[normal_idx,]\n",
    "y_normal = train_y_df[train_y_df.label==0]\n",
    "\n",
    "\n",
    "ddos_idx = train_y_df[train_y_df.label==1].index\n",
    "X_ddos = X_tr_[ddos_idx,]\n",
    "y_ddos = train_y_df[train_y_df.label==1]"
   ]
  },
  {
   "cell_type": "code",
   "execution_count": 72,
   "metadata": {},
   "outputs": [],
   "source": [
    "# test: data scaling\n",
    "X_ts_ = pd.DataFrame(columns=iv)\n",
    "for n, i in enumerate(X_ts):\n",
    "    scaler = scaler_list[n]\n",
    "    tmp_input = pd.DataFrame(scaler.transform(i.values), columns=iv)\n",
    "    X_ts_ = pd.concat([X_ts_, tmp_input], axis=0)\n",
    "\n",
    "    \n",
    "    \n",
    "y_ts_ = []\n",
    "for i in y_ts:\n",
    "    y_ts_.extend(i)\n",
    "    \n",
    "# test df\n",
    "X_ts = X_ts_.values.reshape(-1, 5, 12) \n",
    "y_ts = pd.DataFrame(y_ts_, columns=['time','ip','label'])"
   ]
  },
  {
   "cell_type": "markdown",
   "metadata": {},
   "source": [
    "### 3. CNN AE"
   ]
  },
  {
   "cell_type": "code",
   "execution_count": 91,
   "metadata": {},
   "outputs": [],
   "source": [
    "from tensorflow.keras import Model, models, optimizers, utils, layers\n",
    "from keras.layers import LSTM, Dense, Activation, Conv1D, Dropout, Conv1DTranspose, BatchNormalization\n",
    "from keras.models import load_model\n",
    "import keras.backend as K\n",
    "\n",
    "adam = optimizers.Adam(lr=0.0001)\n",
    "kernel_s = 3 \n",
    "seq_time = 5\n",
    "\n",
    "K.clear_session()\n",
    "cnn_ae = models.Sequential([\n",
    "    layers.Input(shape=(seq_time, features)),\n",
    "    layers.Conv1D(filters=12, kernel_size=kernel_s, padding='same', strides=1),\n",
    "    layers.BatchNormalization(),\n",
    "    Activation('relu'),\n",
    "    layers.Conv1D(filters=36, kernel_size=kernel_s, padding='same', strides=1),\n",
    "    layers.BatchNormalization(), \n",
    "    Activation('tanh'),\n",
    "    layers.Conv1D(filters=36, kernel_size=kernel_s, padding='same', strides=1),\n",
    "    layers.Conv1DTranspose(filters=36, kernel_size=kernel_s, padding='same', strides=1),\n",
    "    #layers.BatchNormalization(),\n",
    "    Activation('relu'),\n",
    "    layers.Conv1DTranspose(filters=36, kernel_size=kernel_s, padding='same', strides=1),\n",
    "    #layers.BatchNormalization(),\n",
    "    Activation('relu'),\n",
    "    layers.Conv1DTranspose(filters=12, kernel_size=kernel_s, padding='same'),\n",
    "]) \n",
    "\n",
    "cnn_ae.compile(optimizer=adam, loss='mse') "
   ]
  },
  {
   "cell_type": "code",
   "execution_count": 92,
   "metadata": {},
   "outputs": [
    {
     "name": "stdout",
     "output_type": "stream",
     "text": [
      "Epoch 1/40\n",
      "2052/2052 - 5s - loss: 0.4772 - val_loss: 0.3684\n",
      "Epoch 2/40\n",
      "2052/2052 - 4s - loss: 0.2929 - val_loss: 0.2892\n",
      "Epoch 3/40\n",
      "2052/2052 - 4s - loss: 0.2289 - val_loss: 0.2290\n",
      "Epoch 4/40\n",
      "2052/2052 - 4s - loss: 0.1809 - val_loss: 0.1827\n",
      "Epoch 5/40\n",
      "2052/2052 - 4s - loss: 0.1444 - val_loss: 0.1474\n",
      "Epoch 6/40\n",
      "2052/2052 - 4s - loss: 0.1160 - val_loss: 0.1193\n",
      "Epoch 7/40\n",
      "2052/2052 - 4s - loss: 0.0948 - val_loss: 0.1009\n",
      "Epoch 8/40\n",
      "2052/2052 - 4s - loss: 0.0798 - val_loss: 0.0852\n",
      "Epoch 9/40\n",
      "2052/2052 - 4s - loss: 0.0685 - val_loss: 0.0751\n",
      "Epoch 10/40\n",
      "2052/2052 - 4s - loss: 0.0603 - val_loss: 0.0687\n",
      "Epoch 11/40\n",
      "2052/2052 - 4s - loss: 0.0543 - val_loss: 0.0626\n",
      "Epoch 12/40\n",
      "2052/2052 - 4s - loss: 0.0492 - val_loss: 0.0581\n",
      "Epoch 13/40\n",
      "2052/2052 - 4s - loss: 0.0454 - val_loss: 0.0549\n",
      "Epoch 14/40\n",
      "2052/2052 - 4s - loss: 0.0417 - val_loss: 0.0501\n",
      "Epoch 15/40\n",
      "2052/2052 - 4s - loss: 0.0390 - val_loss: 0.0487\n",
      "Epoch 16/40\n",
      "2052/2052 - 4s - loss: 0.0364 - val_loss: 0.0443\n",
      "Epoch 17/40\n",
      "2052/2052 - 4s - loss: 0.0343 - val_loss: 0.0421\n",
      "Epoch 18/40\n",
      "2052/2052 - 4s - loss: 0.0327 - val_loss: 0.0397\n",
      "Epoch 19/40\n",
      "2052/2052 - 4s - loss: 0.0311 - val_loss: 0.0375\n",
      "Epoch 20/40\n",
      "2052/2052 - 4s - loss: 0.0292 - val_loss: 0.0365\n",
      "Epoch 21/40\n",
      "2052/2052 - 3s - loss: 0.0283 - val_loss: 0.0350\n",
      "Epoch 22/40\n",
      "2052/2052 - 4s - loss: 0.0272 - val_loss: 0.0345\n",
      "Epoch 23/40\n",
      "2052/2052 - 4s - loss: 0.0260 - val_loss: 0.0330\n",
      "Epoch 24/40\n",
      "2052/2052 - 3s - loss: 0.0254 - val_loss: 0.0316\n",
      "Epoch 25/40\n",
      "2052/2052 - 4s - loss: 0.0247 - val_loss: 0.0317\n",
      "Epoch 26/40\n",
      "2052/2052 - 4s - loss: 0.0237 - val_loss: 0.0306\n",
      "Epoch 27/40\n",
      "2052/2052 - 3s - loss: 0.0230 - val_loss: 0.0294\n",
      "Epoch 28/40\n",
      "2052/2052 - 4s - loss: 0.0226 - val_loss: 0.0285\n",
      "Epoch 29/40\n",
      "2052/2052 - 4s - loss: 0.0215 - val_loss: 0.0294\n",
      "Epoch 30/40\n",
      "2052/2052 - 3s - loss: 0.0215 - val_loss: 0.0267\n",
      "Epoch 31/40\n",
      "2052/2052 - 4s - loss: 0.0210 - val_loss: 0.0267\n",
      "Epoch 32/40\n",
      "2052/2052 - 4s - loss: 0.0205 - val_loss: 0.0263\n",
      "Epoch 33/40\n",
      "2052/2052 - 3s - loss: 0.0202 - val_loss: 0.0259\n",
      "Epoch 34/40\n",
      "2052/2052 - 4s - loss: 0.0196 - val_loss: 0.0247\n",
      "Epoch 35/40\n",
      "2052/2052 - 4s - loss: 0.0193 - val_loss: 0.0249\n",
      "Epoch 36/40\n",
      "2052/2052 - 3s - loss: 0.0189 - val_loss: 0.0253\n",
      "Epoch 37/40\n",
      "2052/2052 - 4s - loss: 0.0187 - val_loss: 0.0237\n",
      "Epoch 38/40\n",
      "2052/2052 - 4s - loss: 0.0183 - val_loss: 0.0240\n",
      "Epoch 39/40\n",
      "2052/2052 - 3s - loss: 0.0181 - val_loss: 0.0234\n",
      "Epoch 40/40\n",
      "2052/2052 - 4s - loss: 0.0178 - val_loss: 0.0242\n"
     ]
    }
   ],
   "source": [
    "hist = cnn_ae.fit(X_normal, X_normal, epochs=40, validation_split=0.1, batch_size=128, shuffle=True, verbose=2)"
   ]
  },
  {
   "cell_type": "code",
   "execution_count": 93,
   "metadata": {},
   "outputs": [
    {
     "data": {
      "application/vnd.plotly.v1+json": {
       "config": {
        "plotlyServerURL": "https://plot.ly"
       },
       "data": [
        {
         "mode": "lines",
         "name": "loss",
         "type": "scatter",
         "y": [
          0.4772128164768219,
          0.2928754687309265,
          0.2288946658372879,
          0.18094180524349213,
          0.1444292664527893,
          0.11604972183704376,
          0.09482768177986145,
          0.07976474612951279,
          0.06848987191915512,
          0.060253407806158066,
          0.05426089093089104,
          0.04924127086997032,
          0.04539760947227478,
          0.04169704392552376,
          0.03903496265411377,
          0.036443594843149185,
          0.0342751182615757,
          0.032715871930122375,
          0.031139977276325226,
          0.02924223616719246,
          0.028321675956249237,
          0.02717560902237892,
          0.02596839889883995,
          0.025375520810484886,
          0.024650389328598976,
          0.023657262325286865,
          0.023026293143630028,
          0.02263578586280346,
          0.021547261625528336,
          0.021463584154844284,
          0.02095402218401432,
          0.020498523488640785,
          0.020194584503769875,
          0.019603818655014038,
          0.019322965294122696,
          0.018925128504633904,
          0.01873817853629589,
          0.018310045823454857,
          0.018123913556337357,
          0.017787324264645576
         ]
        },
        {
         "mode": "lines",
         "name": "val_loss",
         "type": "scatter",
         "y": [
          0.3684326410293579,
          0.2892151176929474,
          0.22901813685894012,
          0.1826852411031723,
          0.14742623269557953,
          0.11934839934110641,
          0.1008811742067337,
          0.08518603444099426,
          0.0750545933842659,
          0.06870927661657333,
          0.0626247301697731,
          0.05814052373170853,
          0.0549490749835968,
          0.05005621910095215,
          0.048685528337955475,
          0.044273003935813904,
          0.04206389561295509,
          0.039715275168418884,
          0.03751532733440399,
          0.036482833325862885,
          0.03497900441288948,
          0.03451400622725487,
          0.03301431983709335,
          0.0316312238574028,
          0.03172365203499794,
          0.030576426535844803,
          0.029398176819086075,
          0.028537893667817116,
          0.029368244111537933,
          0.026734521612524986,
          0.02671218290925026,
          0.026282208040356636,
          0.02591675892472267,
          0.024664711207151413,
          0.024943118914961815,
          0.025290168821811676,
          0.023726029321551323,
          0.02402395009994507,
          0.023350508883595467,
          0.02418617531657219
         ]
        }
       ],
       "layout": {
        "height": 400,
        "template": {
         "data": {
          "bar": [
           {
            "error_x": {
             "color": "#2a3f5f"
            },
            "error_y": {
             "color": "#2a3f5f"
            },
            "marker": {
             "line": {
              "color": "#E5ECF6",
              "width": 0.5
             }
            },
            "type": "bar"
           }
          ],
          "barpolar": [
           {
            "marker": {
             "line": {
              "color": "#E5ECF6",
              "width": 0.5
             }
            },
            "type": "barpolar"
           }
          ],
          "carpet": [
           {
            "aaxis": {
             "endlinecolor": "#2a3f5f",
             "gridcolor": "white",
             "linecolor": "white",
             "minorgridcolor": "white",
             "startlinecolor": "#2a3f5f"
            },
            "baxis": {
             "endlinecolor": "#2a3f5f",
             "gridcolor": "white",
             "linecolor": "white",
             "minorgridcolor": "white",
             "startlinecolor": "#2a3f5f"
            },
            "type": "carpet"
           }
          ],
          "choropleth": [
           {
            "colorbar": {
             "outlinewidth": 0,
             "ticks": ""
            },
            "type": "choropleth"
           }
          ],
          "contour": [
           {
            "colorbar": {
             "outlinewidth": 0,
             "ticks": ""
            },
            "colorscale": [
             [
              0,
              "#0d0887"
             ],
             [
              0.1111111111111111,
              "#46039f"
             ],
             [
              0.2222222222222222,
              "#7201a8"
             ],
             [
              0.3333333333333333,
              "#9c179e"
             ],
             [
              0.4444444444444444,
              "#bd3786"
             ],
             [
              0.5555555555555556,
              "#d8576b"
             ],
             [
              0.6666666666666666,
              "#ed7953"
             ],
             [
              0.7777777777777778,
              "#fb9f3a"
             ],
             [
              0.8888888888888888,
              "#fdca26"
             ],
             [
              1,
              "#f0f921"
             ]
            ],
            "type": "contour"
           }
          ],
          "contourcarpet": [
           {
            "colorbar": {
             "outlinewidth": 0,
             "ticks": ""
            },
            "type": "contourcarpet"
           }
          ],
          "heatmap": [
           {
            "colorbar": {
             "outlinewidth": 0,
             "ticks": ""
            },
            "colorscale": [
             [
              0,
              "#0d0887"
             ],
             [
              0.1111111111111111,
              "#46039f"
             ],
             [
              0.2222222222222222,
              "#7201a8"
             ],
             [
              0.3333333333333333,
              "#9c179e"
             ],
             [
              0.4444444444444444,
              "#bd3786"
             ],
             [
              0.5555555555555556,
              "#d8576b"
             ],
             [
              0.6666666666666666,
              "#ed7953"
             ],
             [
              0.7777777777777778,
              "#fb9f3a"
             ],
             [
              0.8888888888888888,
              "#fdca26"
             ],
             [
              1,
              "#f0f921"
             ]
            ],
            "type": "heatmap"
           }
          ],
          "heatmapgl": [
           {
            "colorbar": {
             "outlinewidth": 0,
             "ticks": ""
            },
            "colorscale": [
             [
              0,
              "#0d0887"
             ],
             [
              0.1111111111111111,
              "#46039f"
             ],
             [
              0.2222222222222222,
              "#7201a8"
             ],
             [
              0.3333333333333333,
              "#9c179e"
             ],
             [
              0.4444444444444444,
              "#bd3786"
             ],
             [
              0.5555555555555556,
              "#d8576b"
             ],
             [
              0.6666666666666666,
              "#ed7953"
             ],
             [
              0.7777777777777778,
              "#fb9f3a"
             ],
             [
              0.8888888888888888,
              "#fdca26"
             ],
             [
              1,
              "#f0f921"
             ]
            ],
            "type": "heatmapgl"
           }
          ],
          "histogram": [
           {
            "marker": {
             "colorbar": {
              "outlinewidth": 0,
              "ticks": ""
             }
            },
            "type": "histogram"
           }
          ],
          "histogram2d": [
           {
            "colorbar": {
             "outlinewidth": 0,
             "ticks": ""
            },
            "colorscale": [
             [
              0,
              "#0d0887"
             ],
             [
              0.1111111111111111,
              "#46039f"
             ],
             [
              0.2222222222222222,
              "#7201a8"
             ],
             [
              0.3333333333333333,
              "#9c179e"
             ],
             [
              0.4444444444444444,
              "#bd3786"
             ],
             [
              0.5555555555555556,
              "#d8576b"
             ],
             [
              0.6666666666666666,
              "#ed7953"
             ],
             [
              0.7777777777777778,
              "#fb9f3a"
             ],
             [
              0.8888888888888888,
              "#fdca26"
             ],
             [
              1,
              "#f0f921"
             ]
            ],
            "type": "histogram2d"
           }
          ],
          "histogram2dcontour": [
           {
            "colorbar": {
             "outlinewidth": 0,
             "ticks": ""
            },
            "colorscale": [
             [
              0,
              "#0d0887"
             ],
             [
              0.1111111111111111,
              "#46039f"
             ],
             [
              0.2222222222222222,
              "#7201a8"
             ],
             [
              0.3333333333333333,
              "#9c179e"
             ],
             [
              0.4444444444444444,
              "#bd3786"
             ],
             [
              0.5555555555555556,
              "#d8576b"
             ],
             [
              0.6666666666666666,
              "#ed7953"
             ],
             [
              0.7777777777777778,
              "#fb9f3a"
             ],
             [
              0.8888888888888888,
              "#fdca26"
             ],
             [
              1,
              "#f0f921"
             ]
            ],
            "type": "histogram2dcontour"
           }
          ],
          "mesh3d": [
           {
            "colorbar": {
             "outlinewidth": 0,
             "ticks": ""
            },
            "type": "mesh3d"
           }
          ],
          "parcoords": [
           {
            "line": {
             "colorbar": {
              "outlinewidth": 0,
              "ticks": ""
             }
            },
            "type": "parcoords"
           }
          ],
          "pie": [
           {
            "automargin": true,
            "type": "pie"
           }
          ],
          "scatter": [
           {
            "marker": {
             "colorbar": {
              "outlinewidth": 0,
              "ticks": ""
             }
            },
            "type": "scatter"
           }
          ],
          "scatter3d": [
           {
            "line": {
             "colorbar": {
              "outlinewidth": 0,
              "ticks": ""
             }
            },
            "marker": {
             "colorbar": {
              "outlinewidth": 0,
              "ticks": ""
             }
            },
            "type": "scatter3d"
           }
          ],
          "scattercarpet": [
           {
            "marker": {
             "colorbar": {
              "outlinewidth": 0,
              "ticks": ""
             }
            },
            "type": "scattercarpet"
           }
          ],
          "scattergeo": [
           {
            "marker": {
             "colorbar": {
              "outlinewidth": 0,
              "ticks": ""
             }
            },
            "type": "scattergeo"
           }
          ],
          "scattergl": [
           {
            "marker": {
             "colorbar": {
              "outlinewidth": 0,
              "ticks": ""
             }
            },
            "type": "scattergl"
           }
          ],
          "scattermapbox": [
           {
            "marker": {
             "colorbar": {
              "outlinewidth": 0,
              "ticks": ""
             }
            },
            "type": "scattermapbox"
           }
          ],
          "scatterpolar": [
           {
            "marker": {
             "colorbar": {
              "outlinewidth": 0,
              "ticks": ""
             }
            },
            "type": "scatterpolar"
           }
          ],
          "scatterpolargl": [
           {
            "marker": {
             "colorbar": {
              "outlinewidth": 0,
              "ticks": ""
             }
            },
            "type": "scatterpolargl"
           }
          ],
          "scatterternary": [
           {
            "marker": {
             "colorbar": {
              "outlinewidth": 0,
              "ticks": ""
             }
            },
            "type": "scatterternary"
           }
          ],
          "surface": [
           {
            "colorbar": {
             "outlinewidth": 0,
             "ticks": ""
            },
            "colorscale": [
             [
              0,
              "#0d0887"
             ],
             [
              0.1111111111111111,
              "#46039f"
             ],
             [
              0.2222222222222222,
              "#7201a8"
             ],
             [
              0.3333333333333333,
              "#9c179e"
             ],
             [
              0.4444444444444444,
              "#bd3786"
             ],
             [
              0.5555555555555556,
              "#d8576b"
             ],
             [
              0.6666666666666666,
              "#ed7953"
             ],
             [
              0.7777777777777778,
              "#fb9f3a"
             ],
             [
              0.8888888888888888,
              "#fdca26"
             ],
             [
              1,
              "#f0f921"
             ]
            ],
            "type": "surface"
           }
          ],
          "table": [
           {
            "cells": {
             "fill": {
              "color": "#EBF0F8"
             },
             "line": {
              "color": "white"
             }
            },
            "header": {
             "fill": {
              "color": "#C8D4E3"
             },
             "line": {
              "color": "white"
             }
            },
            "type": "table"
           }
          ]
         },
         "layout": {
          "annotationdefaults": {
           "arrowcolor": "#2a3f5f",
           "arrowhead": 0,
           "arrowwidth": 1
          },
          "autotypenumbers": "strict",
          "coloraxis": {
           "colorbar": {
            "outlinewidth": 0,
            "ticks": ""
           }
          },
          "colorscale": {
           "diverging": [
            [
             0,
             "#8e0152"
            ],
            [
             0.1,
             "#c51b7d"
            ],
            [
             0.2,
             "#de77ae"
            ],
            [
             0.3,
             "#f1b6da"
            ],
            [
             0.4,
             "#fde0ef"
            ],
            [
             0.5,
             "#f7f7f7"
            ],
            [
             0.6,
             "#e6f5d0"
            ],
            [
             0.7,
             "#b8e186"
            ],
            [
             0.8,
             "#7fbc41"
            ],
            [
             0.9,
             "#4d9221"
            ],
            [
             1,
             "#276419"
            ]
           ],
           "sequential": [
            [
             0,
             "#0d0887"
            ],
            [
             0.1111111111111111,
             "#46039f"
            ],
            [
             0.2222222222222222,
             "#7201a8"
            ],
            [
             0.3333333333333333,
             "#9c179e"
            ],
            [
             0.4444444444444444,
             "#bd3786"
            ],
            [
             0.5555555555555556,
             "#d8576b"
            ],
            [
             0.6666666666666666,
             "#ed7953"
            ],
            [
             0.7777777777777778,
             "#fb9f3a"
            ],
            [
             0.8888888888888888,
             "#fdca26"
            ],
            [
             1,
             "#f0f921"
            ]
           ],
           "sequentialminus": [
            [
             0,
             "#0d0887"
            ],
            [
             0.1111111111111111,
             "#46039f"
            ],
            [
             0.2222222222222222,
             "#7201a8"
            ],
            [
             0.3333333333333333,
             "#9c179e"
            ],
            [
             0.4444444444444444,
             "#bd3786"
            ],
            [
             0.5555555555555556,
             "#d8576b"
            ],
            [
             0.6666666666666666,
             "#ed7953"
            ],
            [
             0.7777777777777778,
             "#fb9f3a"
            ],
            [
             0.8888888888888888,
             "#fdca26"
            ],
            [
             1,
             "#f0f921"
            ]
           ]
          },
          "colorway": [
           "#636efa",
           "#EF553B",
           "#00cc96",
           "#ab63fa",
           "#FFA15A",
           "#19d3f3",
           "#FF6692",
           "#B6E880",
           "#FF97FF",
           "#FECB52"
          ],
          "font": {
           "color": "#2a3f5f"
          },
          "geo": {
           "bgcolor": "white",
           "lakecolor": "white",
           "landcolor": "#E5ECF6",
           "showlakes": true,
           "showland": true,
           "subunitcolor": "white"
          },
          "hoverlabel": {
           "align": "left"
          },
          "hovermode": "closest",
          "mapbox": {
           "style": "light"
          },
          "paper_bgcolor": "white",
          "plot_bgcolor": "#E5ECF6",
          "polar": {
           "angularaxis": {
            "gridcolor": "white",
            "linecolor": "white",
            "ticks": ""
           },
           "bgcolor": "#E5ECF6",
           "radialaxis": {
            "gridcolor": "white",
            "linecolor": "white",
            "ticks": ""
           }
          },
          "scene": {
           "xaxis": {
            "backgroundcolor": "#E5ECF6",
            "gridcolor": "white",
            "gridwidth": 2,
            "linecolor": "white",
            "showbackground": true,
            "ticks": "",
            "zerolinecolor": "white"
           },
           "yaxis": {
            "backgroundcolor": "#E5ECF6",
            "gridcolor": "white",
            "gridwidth": 2,
            "linecolor": "white",
            "showbackground": true,
            "ticks": "",
            "zerolinecolor": "white"
           },
           "zaxis": {
            "backgroundcolor": "#E5ECF6",
            "gridcolor": "white",
            "gridwidth": 2,
            "linecolor": "white",
            "showbackground": true,
            "ticks": "",
            "zerolinecolor": "white"
           }
          },
          "shapedefaults": {
           "line": {
            "color": "#2a3f5f"
           }
          },
          "ternary": {
           "aaxis": {
            "gridcolor": "white",
            "linecolor": "white",
            "ticks": ""
           },
           "baxis": {
            "gridcolor": "white",
            "linecolor": "white",
            "ticks": ""
           },
           "bgcolor": "#E5ECF6",
           "caxis": {
            "gridcolor": "white",
            "linecolor": "white",
            "ticks": ""
           }
          },
          "title": {
           "x": 0.05
          },
          "xaxis": {
           "automargin": true,
           "gridcolor": "white",
           "linecolor": "white",
           "ticks": "",
           "title": {
            "standoff": 15
           },
           "zerolinecolor": "white",
           "zerolinewidth": 2
          },
          "yaxis": {
           "automargin": true,
           "gridcolor": "white",
           "linecolor": "white",
           "ticks": "",
           "title": {
            "standoff": 15
           },
           "zerolinecolor": "white",
           "zerolinewidth": 2
          }
         }
        },
        "title": {
         "text": "loss of CAE"
        },
        "width": 600
       }
      },
      "text/html": [
       "<div>                            <div id=\"0f89ffc6-7526-4f19-a14f-85a89ce9c671\" class=\"plotly-graph-div\" style=\"height:400px; width:600px;\"></div>            <script type=\"text/javascript\">                require([\"plotly\"], function(Plotly) {                    window.PLOTLYENV=window.PLOTLYENV || {};                                    if (document.getElementById(\"0f89ffc6-7526-4f19-a14f-85a89ce9c671\")) {                    Plotly.newPlot(                        \"0f89ffc6-7526-4f19-a14f-85a89ce9c671\",                        [{\"mode\": \"lines\", \"name\": \"loss\", \"type\": \"scatter\", \"y\": [0.4772128164768219, 0.2928754687309265, 0.2288946658372879, 0.18094180524349213, 0.1444292664527893, 0.11604972183704376, 0.09482768177986145, 0.07976474612951279, 0.06848987191915512, 0.060253407806158066, 0.05426089093089104, 0.04924127086997032, 0.04539760947227478, 0.04169704392552376, 0.03903496265411377, 0.036443594843149185, 0.0342751182615757, 0.032715871930122375, 0.031139977276325226, 0.02924223616719246, 0.028321675956249237, 0.02717560902237892, 0.02596839889883995, 0.025375520810484886, 0.024650389328598976, 0.023657262325286865, 0.023026293143630028, 0.02263578586280346, 0.021547261625528336, 0.021463584154844284, 0.02095402218401432, 0.020498523488640785, 0.020194584503769875, 0.019603818655014038, 0.019322965294122696, 0.018925128504633904, 0.01873817853629589, 0.018310045823454857, 0.018123913556337357, 0.017787324264645576]}, {\"mode\": \"lines\", \"name\": \"val_loss\", \"type\": \"scatter\", \"y\": [0.3684326410293579, 0.2892151176929474, 0.22901813685894012, 0.1826852411031723, 0.14742623269557953, 0.11934839934110641, 0.1008811742067337, 0.08518603444099426, 0.0750545933842659, 0.06870927661657333, 0.0626247301697731, 0.05814052373170853, 0.0549490749835968, 0.05005621910095215, 0.048685528337955475, 0.044273003935813904, 0.04206389561295509, 0.039715275168418884, 0.03751532733440399, 0.036482833325862885, 0.03497900441288948, 0.03451400622725487, 0.03301431983709335, 0.0316312238574028, 0.03172365203499794, 0.030576426535844803, 0.029398176819086075, 0.028537893667817116, 0.029368244111537933, 0.026734521612524986, 0.02671218290925026, 0.026282208040356636, 0.02591675892472267, 0.024664711207151413, 0.024943118914961815, 0.025290168821811676, 0.023726029321551323, 0.02402395009994507, 0.023350508883595467, 0.02418617531657219]}],                        {\"height\": 400, \"template\": {\"data\": {\"bar\": [{\"error_x\": {\"color\": \"#2a3f5f\"}, \"error_y\": {\"color\": \"#2a3f5f\"}, \"marker\": {\"line\": {\"color\": \"#E5ECF6\", \"width\": 0.5}}, \"type\": \"bar\"}], \"barpolar\": [{\"marker\": {\"line\": {\"color\": \"#E5ECF6\", \"width\": 0.5}}, \"type\": \"barpolar\"}], \"carpet\": [{\"aaxis\": {\"endlinecolor\": \"#2a3f5f\", \"gridcolor\": \"white\", \"linecolor\": \"white\", \"minorgridcolor\": \"white\", \"startlinecolor\": \"#2a3f5f\"}, \"baxis\": {\"endlinecolor\": \"#2a3f5f\", \"gridcolor\": \"white\", \"linecolor\": \"white\", \"minorgridcolor\": \"white\", \"startlinecolor\": \"#2a3f5f\"}, \"type\": \"carpet\"}], \"choropleth\": [{\"colorbar\": {\"outlinewidth\": 0, \"ticks\": \"\"}, \"type\": \"choropleth\"}], \"contour\": [{\"colorbar\": {\"outlinewidth\": 0, \"ticks\": \"\"}, \"colorscale\": [[0.0, \"#0d0887\"], [0.1111111111111111, \"#46039f\"], [0.2222222222222222, \"#7201a8\"], [0.3333333333333333, \"#9c179e\"], [0.4444444444444444, \"#bd3786\"], [0.5555555555555556, \"#d8576b\"], [0.6666666666666666, \"#ed7953\"], [0.7777777777777778, \"#fb9f3a\"], [0.8888888888888888, \"#fdca26\"], [1.0, \"#f0f921\"]], \"type\": \"contour\"}], \"contourcarpet\": [{\"colorbar\": {\"outlinewidth\": 0, \"ticks\": \"\"}, \"type\": \"contourcarpet\"}], \"heatmap\": [{\"colorbar\": {\"outlinewidth\": 0, \"ticks\": \"\"}, \"colorscale\": [[0.0, \"#0d0887\"], [0.1111111111111111, \"#46039f\"], [0.2222222222222222, \"#7201a8\"], [0.3333333333333333, \"#9c179e\"], [0.4444444444444444, \"#bd3786\"], [0.5555555555555556, \"#d8576b\"], [0.6666666666666666, \"#ed7953\"], [0.7777777777777778, \"#fb9f3a\"], [0.8888888888888888, \"#fdca26\"], [1.0, \"#f0f921\"]], \"type\": \"heatmap\"}], \"heatmapgl\": [{\"colorbar\": {\"outlinewidth\": 0, \"ticks\": \"\"}, \"colorscale\": [[0.0, \"#0d0887\"], [0.1111111111111111, \"#46039f\"], [0.2222222222222222, \"#7201a8\"], [0.3333333333333333, \"#9c179e\"], [0.4444444444444444, \"#bd3786\"], [0.5555555555555556, \"#d8576b\"], [0.6666666666666666, \"#ed7953\"], [0.7777777777777778, \"#fb9f3a\"], [0.8888888888888888, \"#fdca26\"], [1.0, \"#f0f921\"]], \"type\": \"heatmapgl\"}], \"histogram\": [{\"marker\": {\"colorbar\": {\"outlinewidth\": 0, \"ticks\": \"\"}}, \"type\": \"histogram\"}], \"histogram2d\": [{\"colorbar\": {\"outlinewidth\": 0, \"ticks\": \"\"}, \"colorscale\": [[0.0, \"#0d0887\"], [0.1111111111111111, \"#46039f\"], [0.2222222222222222, \"#7201a8\"], [0.3333333333333333, \"#9c179e\"], [0.4444444444444444, \"#bd3786\"], [0.5555555555555556, \"#d8576b\"], [0.6666666666666666, \"#ed7953\"], [0.7777777777777778, \"#fb9f3a\"], [0.8888888888888888, \"#fdca26\"], [1.0, \"#f0f921\"]], \"type\": \"histogram2d\"}], \"histogram2dcontour\": [{\"colorbar\": {\"outlinewidth\": 0, \"ticks\": \"\"}, \"colorscale\": [[0.0, \"#0d0887\"], [0.1111111111111111, \"#46039f\"], [0.2222222222222222, \"#7201a8\"], [0.3333333333333333, \"#9c179e\"], [0.4444444444444444, \"#bd3786\"], [0.5555555555555556, \"#d8576b\"], [0.6666666666666666, \"#ed7953\"], [0.7777777777777778, \"#fb9f3a\"], [0.8888888888888888, \"#fdca26\"], [1.0, \"#f0f921\"]], \"type\": \"histogram2dcontour\"}], \"mesh3d\": [{\"colorbar\": {\"outlinewidth\": 0, \"ticks\": \"\"}, \"type\": \"mesh3d\"}], \"parcoords\": [{\"line\": {\"colorbar\": {\"outlinewidth\": 0, \"ticks\": \"\"}}, \"type\": \"parcoords\"}], \"pie\": [{\"automargin\": true, \"type\": \"pie\"}], \"scatter\": [{\"marker\": {\"colorbar\": {\"outlinewidth\": 0, \"ticks\": \"\"}}, \"type\": \"scatter\"}], \"scatter3d\": [{\"line\": {\"colorbar\": {\"outlinewidth\": 0, \"ticks\": \"\"}}, \"marker\": {\"colorbar\": {\"outlinewidth\": 0, \"ticks\": \"\"}}, \"type\": \"scatter3d\"}], \"scattercarpet\": [{\"marker\": {\"colorbar\": {\"outlinewidth\": 0, \"ticks\": \"\"}}, \"type\": \"scattercarpet\"}], \"scattergeo\": [{\"marker\": {\"colorbar\": {\"outlinewidth\": 0, \"ticks\": \"\"}}, \"type\": \"scattergeo\"}], \"scattergl\": [{\"marker\": {\"colorbar\": {\"outlinewidth\": 0, \"ticks\": \"\"}}, \"type\": \"scattergl\"}], \"scattermapbox\": [{\"marker\": {\"colorbar\": {\"outlinewidth\": 0, \"ticks\": \"\"}}, \"type\": \"scattermapbox\"}], \"scatterpolar\": [{\"marker\": {\"colorbar\": {\"outlinewidth\": 0, \"ticks\": \"\"}}, \"type\": \"scatterpolar\"}], \"scatterpolargl\": [{\"marker\": {\"colorbar\": {\"outlinewidth\": 0, \"ticks\": \"\"}}, \"type\": \"scatterpolargl\"}], \"scatterternary\": [{\"marker\": {\"colorbar\": {\"outlinewidth\": 0, \"ticks\": \"\"}}, \"type\": \"scatterternary\"}], \"surface\": [{\"colorbar\": {\"outlinewidth\": 0, \"ticks\": \"\"}, \"colorscale\": [[0.0, \"#0d0887\"], [0.1111111111111111, \"#46039f\"], [0.2222222222222222, \"#7201a8\"], [0.3333333333333333, \"#9c179e\"], [0.4444444444444444, \"#bd3786\"], [0.5555555555555556, \"#d8576b\"], [0.6666666666666666, \"#ed7953\"], [0.7777777777777778, \"#fb9f3a\"], [0.8888888888888888, \"#fdca26\"], [1.0, \"#f0f921\"]], \"type\": \"surface\"}], \"table\": [{\"cells\": {\"fill\": {\"color\": \"#EBF0F8\"}, \"line\": {\"color\": \"white\"}}, \"header\": {\"fill\": {\"color\": \"#C8D4E3\"}, \"line\": {\"color\": \"white\"}}, \"type\": \"table\"}]}, \"layout\": {\"annotationdefaults\": {\"arrowcolor\": \"#2a3f5f\", \"arrowhead\": 0, \"arrowwidth\": 1}, \"autotypenumbers\": \"strict\", \"coloraxis\": {\"colorbar\": {\"outlinewidth\": 0, \"ticks\": \"\"}}, \"colorscale\": {\"diverging\": [[0, \"#8e0152\"], [0.1, \"#c51b7d\"], [0.2, \"#de77ae\"], [0.3, \"#f1b6da\"], [0.4, \"#fde0ef\"], [0.5, \"#f7f7f7\"], [0.6, \"#e6f5d0\"], [0.7, \"#b8e186\"], [0.8, \"#7fbc41\"], [0.9, \"#4d9221\"], [1, \"#276419\"]], \"sequential\": [[0.0, \"#0d0887\"], [0.1111111111111111, \"#46039f\"], [0.2222222222222222, \"#7201a8\"], [0.3333333333333333, \"#9c179e\"], [0.4444444444444444, \"#bd3786\"], [0.5555555555555556, \"#d8576b\"], [0.6666666666666666, \"#ed7953\"], [0.7777777777777778, \"#fb9f3a\"], [0.8888888888888888, \"#fdca26\"], [1.0, \"#f0f921\"]], \"sequentialminus\": [[0.0, \"#0d0887\"], [0.1111111111111111, \"#46039f\"], [0.2222222222222222, \"#7201a8\"], [0.3333333333333333, \"#9c179e\"], [0.4444444444444444, \"#bd3786\"], [0.5555555555555556, \"#d8576b\"], [0.6666666666666666, \"#ed7953\"], [0.7777777777777778, \"#fb9f3a\"], [0.8888888888888888, \"#fdca26\"], [1.0, \"#f0f921\"]]}, \"colorway\": [\"#636efa\", \"#EF553B\", \"#00cc96\", \"#ab63fa\", \"#FFA15A\", \"#19d3f3\", \"#FF6692\", \"#B6E880\", \"#FF97FF\", \"#FECB52\"], \"font\": {\"color\": \"#2a3f5f\"}, \"geo\": {\"bgcolor\": \"white\", \"lakecolor\": \"white\", \"landcolor\": \"#E5ECF6\", \"showlakes\": true, \"showland\": true, \"subunitcolor\": \"white\"}, \"hoverlabel\": {\"align\": \"left\"}, \"hovermode\": \"closest\", \"mapbox\": {\"style\": \"light\"}, \"paper_bgcolor\": \"white\", \"plot_bgcolor\": \"#E5ECF6\", \"polar\": {\"angularaxis\": {\"gridcolor\": \"white\", \"linecolor\": \"white\", \"ticks\": \"\"}, \"bgcolor\": \"#E5ECF6\", \"radialaxis\": {\"gridcolor\": \"white\", \"linecolor\": \"white\", \"ticks\": \"\"}}, \"scene\": {\"xaxis\": {\"backgroundcolor\": \"#E5ECF6\", \"gridcolor\": \"white\", \"gridwidth\": 2, \"linecolor\": \"white\", \"showbackground\": true, \"ticks\": \"\", \"zerolinecolor\": \"white\"}, \"yaxis\": {\"backgroundcolor\": \"#E5ECF6\", \"gridcolor\": \"white\", \"gridwidth\": 2, \"linecolor\": \"white\", \"showbackground\": true, \"ticks\": \"\", \"zerolinecolor\": \"white\"}, \"zaxis\": {\"backgroundcolor\": \"#E5ECF6\", \"gridcolor\": \"white\", \"gridwidth\": 2, \"linecolor\": \"white\", \"showbackground\": true, \"ticks\": \"\", \"zerolinecolor\": \"white\"}}, \"shapedefaults\": {\"line\": {\"color\": \"#2a3f5f\"}}, \"ternary\": {\"aaxis\": {\"gridcolor\": \"white\", \"linecolor\": \"white\", \"ticks\": \"\"}, \"baxis\": {\"gridcolor\": \"white\", \"linecolor\": \"white\", \"ticks\": \"\"}, \"bgcolor\": \"#E5ECF6\", \"caxis\": {\"gridcolor\": \"white\", \"linecolor\": \"white\", \"ticks\": \"\"}}, \"title\": {\"x\": 0.05}, \"xaxis\": {\"automargin\": true, \"gridcolor\": \"white\", \"linecolor\": \"white\", \"ticks\": \"\", \"title\": {\"standoff\": 15}, \"zerolinecolor\": \"white\", \"zerolinewidth\": 2}, \"yaxis\": {\"automargin\": true, \"gridcolor\": \"white\", \"linecolor\": \"white\", \"ticks\": \"\", \"title\": {\"standoff\": 15}, \"zerolinecolor\": \"white\", \"zerolinewidth\": 2}}}, \"title\": {\"text\": \"loss of CAE\"}, \"width\": 600},                        {\"responsive\": true}                    ).then(function(){\n",
       "                            \n",
       "var gd = document.getElementById('0f89ffc6-7526-4f19-a14f-85a89ce9c671');\n",
       "var x = new MutationObserver(function (mutations, observer) {{\n",
       "        var display = window.getComputedStyle(gd).display;\n",
       "        if (!display || display === 'none') {{\n",
       "            console.log([gd, 'removed!']);\n",
       "            Plotly.purge(gd);\n",
       "            observer.disconnect();\n",
       "        }}\n",
       "}});\n",
       "\n",
       "// Listen for the removal of the full notebook cells\n",
       "var notebookContainer = gd.closest('#notebook-container');\n",
       "if (notebookContainer) {{\n",
       "    x.observe(notebookContainer, {childList: true});\n",
       "}}\n",
       "\n",
       "// Listen for the clearing of the current output cell\n",
       "var outputEl = gd.closest('.output');\n",
       "if (outputEl) {{\n",
       "    x.observe(outputEl, {childList: true});\n",
       "}}\n",
       "\n",
       "                        })                };                });            </script>        </div>"
      ]
     },
     "metadata": {},
     "output_type": "display_data"
    }
   ],
   "source": [
    "from plotly.offline import plot, iplot \n",
    "import plotly.graph_objects as go\n",
    "\n",
    "loss = hist.history['loss'] \n",
    "val_loss = hist.history['val_loss'] \n",
    "\n",
    "fig = go.Figure()\n",
    "fig.add_trace(go.Scatter(y=loss, mode='lines', name='loss')) \n",
    "fig.add_trace(go.Scatter(y=val_loss, mode='lines', name='val_loss'))\n",
    "fig.update_layout(height=400, width=600, title='loss of CAE')\n",
    "fig.show() "
   ]
  },
  {
   "cell_type": "code",
   "execution_count": 100,
   "metadata": {},
   "outputs": [
    {
     "name": "stdout",
     "output_type": "stream",
     "text": [
      "       reconstruction_error     Label\n",
      "count         291779.000000  291779.0\n",
      "mean              -5.276535       0.0\n",
      "std                0.678930       0.0\n",
      "min               -6.199510       0.0\n",
      "25%               -5.688544       0.0\n",
      "50%               -5.464030       0.0\n",
      "75%               -5.100245       0.0\n",
      "max                4.420908       0.0\n",
      "-1.1660410206052583\n"
     ]
    }
   ],
   "source": [
    "# try detecting with train set and setting the optimal threshold\n",
    "\n",
    "pred_x = cnn_ae.predict(X_normal).reshape(X_normal.shape[0],-1)\n",
    "real = X_normal.reshape(X_normal.shape[0], -1) \n",
    "log_mse = np.log(np.mean(np.power(real-pred_x, 2), axis=1)) \n",
    "mse = np.mean(np.power(real-pred_x, 2), axis=1)\n",
    "train_df_error = pd.DataFrame({'time':y_normal.time, 'recon_size':mse, 'IP':y_normal.ip, 'reconstruction_error':log_mse, 'Label':y_normal.label})\n",
    "\n",
    "\n",
    "thr = train_df_error[['reconstruction_error','Label']].describe()\n",
    "error = sorted(train_df_error.reconstruction_error.values, reverse=True)\n",
    "\n",
    "up_to_99_5 = int(round(len(error) * 0.003,0)) \n",
    "up_to_99_5\n",
    "\n",
    "threshold = error[up_to_99_5]\n",
    "max_error = error[0]\n",
    "print(thr)\n",
    "print(threshold) "
   ]
  },
  {
   "cell_type": "code",
   "execution_count": 101,
   "metadata": {},
   "outputs": [
    {
     "name": "stdout",
     "output_type": "stream",
     "text": [
      "[[289330   1601]\n",
      " [     0     78]]\n",
      "              precision    recall  f1-score   support\n",
      "\n",
      "         0.0       1.00      0.99      1.00    290931\n",
      "         1.0       0.05      1.00      0.09        78\n",
      "\n",
      "    accuracy                           0.99    291009\n",
      "   macro avg       0.52      1.00      0.54    291009\n",
      "weighted avg       1.00      0.99      1.00    291009\n",
      "\n"
     ]
    }
   ],
   "source": [
    "# Model evaluation (batch 128, epoch 40) with upper 0.5%\n",
    "from sklearn.metrics import confusion_matrix, classification_report\n",
    "\n",
    "pred_x = cnn_ae.predict(X_ts).reshape(X_ts.shape[0],-1)\n",
    "real = X_ts.reshape(X_ts.shape[0], -1)\n",
    "log_mse = np.log(np.mean(np.power(real-pred_x, 2), axis=1))\n",
    "mse = np.mean(np.power(real-pred_x, 2), axis=1)\n",
    "test_df_error = pd.DataFrame({'time':y_ts.time, 'reconstruction_error':log_mse, 'recon_size':mse, 'Label':y_ts.label, 'IP':y_ts.ip})\n",
    "\n",
    "\n",
    "\n",
    "pred_y = [1 if e > threshold else 0 for e in test_df_error['reconstruction_error'].values]\n",
    "confusion_m = confusion_matrix(y_ts.label, pred_y)\n",
    "classification = classification_report(y_ts.label, pred_y)\n",
    "test_df_error['predicted_y'] = pred_y\n",
    "print(confusion_m)\n",
    "print(classification)\n"
   ]
  },
  {
   "cell_type": "code",
   "execution_count": 84,
   "metadata": {},
   "outputs": [
    {
     "data": {
      "image/png": "[encoded data removed]",
      "text/plain": [
       "<Figure size 432x288 with 1 Axes>"
      ]
     },
     "metadata": {
      "needs_background": "light"
     },
     "output_type": "display_data"
    }
   ],
   "source": [
    "import matplotlib.pyplot as plt\n",
    "from sklearn.metrics import classification_report, confusion_matrix, auc, roc_curve\n",
    "\n",
    "fpr, tpr, thresholds = roc_curve(test_df_error.Label, pred_y)\n",
    "roc_auc = auc(fpr, tpr)\n",
    "\n",
    "plt.figure() \n",
    "plt.plot(fpr, tpr, label='ROC curve (area = %0.2f)' % roc_auc)\n",
    "plt.plot([0, 1], [0, 1], 'k--')\n",
    "plt.xlim([0.0, 1.0])\n",
    "plt.ylim([0.0, 1.05])\n",
    "plt.xlabel('False Positive Rate')\n",
    "plt.ylabel('True Positive Rate')\n",
    "plt.title('Receiver operating characteristic example')\n",
    "plt.legend(loc=\"lower right\") \n",
    "plt.show()"
   ]
  },
  {
   "cell_type": "code",
   "execution_count": 103,
   "metadata": {},
   "outputs": [],
   "source": [
    "# # comparing the reconstruction distribution \n",
    "# import plotly.figure_factory as ff\n",
    "# from plotly.offline import plot, iplot \n",
    "\n",
    "# test_ddos = test_df_error[test_df_error.Label ==1 ]\n",
    "# test_normal = test_df_error[test_df_error.Label ==0 ]\n",
    "# data = [train_df_error.reconstruction_error, test_ddos.reconstruction_error, test_normal.reconstruction_error]\n",
    "# group = ['train normal', 'test ddos', 'test normal'] \n",
    "# fig = ff.create_distplot(data, group, bin_size=[.2,.2,.2])\n",
    "# fig.update_layout(title='Reconstruction distribution') \n",
    "# fig.show() "
   ]
  },
  {
   "cell_type": "code",
   "execution_count": null,
   "metadata": {},
   "outputs": [],
   "source": []
  },
  {
   "cell_type": "code",
   "execution_count": null,
   "metadata": {},
   "outputs": [],
   "source": []
  },
  {
   "cell_type": "code",
   "execution_count": null,
   "metadata": {},
   "outputs": [],
   "source": []
  },
  {
   "cell_type": "code",
   "execution_count": null,
   "metadata": {},
   "outputs": [],
   "source": []
  },
  {
   "cell_type": "code",
   "execution_count": null,
   "metadata": {},
   "outputs": [],
   "source": []
  },
  {
   "cell_type": "code",
   "execution_count": null,
   "metadata": {},
   "outputs": [],
   "source": []
  },
  {
   "cell_type": "code",
   "execution_count": null,
   "metadata": {},
   "outputs": [],
   "source": []
  }
 ],
 "metadata": {
  "kernelspec": {
   "display_name": "Python 3",
   "language": "python",
   "name": "python3"
  },
  "language_info": {
   "codemirror_mode": {
    "name": "ipython",
    "version": 3
   },
   "file_extension": ".py",
   "mimetype": "text/x-python",
   "name": "python",
   "nbconvert_exporter": "python",
   "pygments_lexer": "ipython3",
   "version": "3.8.5"
  }
 },
 "nbformat": 4,
 "nbformat_minor": 4
}
