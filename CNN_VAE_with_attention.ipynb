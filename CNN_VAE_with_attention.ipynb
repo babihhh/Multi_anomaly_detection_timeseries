{
 "cells": [
  {
   "cell_type": "code",
   "execution_count": 2,
   "metadata": {},
   "outputs": [],
   "source": [
    "import pandas as pd\n",
    "import numpy as np "
   ]
  },
  {
   "cell_type": "code",
   "execution_count": 3,
   "metadata": {},
   "outputs": [],
   "source": [
    "train_data = pd.read_pickle('./raw_data/train.pickle')\n",
    "test_data = pd.read_pickle('./raw_data/test.pickle')"
   ]
  },
  {
   "cell_type": "code",
   "execution_count": 4,
   "metadata": {},
   "outputs": [],
   "source": [
    "num_data = train_data.cust_ip_no.value_counts()\n",
    "ip_list = []\n",
    "for i in num_data.index:\n",
    "    ip_list.append(str(i))\n",
    "    \n",
    "    \n",
    "using_ip = []\n",
    "for i, j in num_data.iteritems():\n",
    "    if j >= 10079:\n",
    "        using_ip.append(i)\n",
    "        "
   ]
  },
  {
   "cell_type": "code",
   "execution_count": 5,
   "metadata": {},
   "outputs": [
    {
     "name": "stdout",
     "output_type": "stream",
     "text": [
      "[8187.0, 11784.0, 10580.0, 10515.0, 10468.0, 9366.0, 10630.0, 10683.0, 9365.0, 8938.0, 8923.0, 8902.0, 11654.0, 8879.0, 10554.0, 11707.0, 8860.0, 11837.0, 8511.0, 8257.0, 12413.0, 8258.0, 8259.0, 12243.0, 11983.0, 8768.0, 11857.0, 8182.0]\n",
      "28\n"
     ]
    }
   ],
   "source": [
    "# 총 28개의 ip 실험\n",
    "print(using_ip)\n",
    "print(len(using_ip))"
   ]
  },
  {
   "cell_type": "code",
   "execution_count": 6,
   "metadata": {},
   "outputs": [
    {
     "name": "stdout",
     "output_type": "stream",
     "text": [
      "[8187.0, 11784.0, 10580.0, 10515.0, 10468.0, 9366.0, 10630.0, 10683.0, 9365.0, 8938.0, 8923.0, 8902.0, 11654.0, 8879.0, 10554.0, 11707.0, 8860.0, 11837.0, 8511.0, 8257.0, 12413.0, 8258.0, 8259.0, 12243.0, 11983.0, 8768.0, 11857.0, 8182.0, 8939]\n"
     ]
    }
   ],
   "source": [
    "# ddos 이력이 있는 ip 8939 추가, 총 29개 IP\n",
    "using_ip.extend([8939])\n",
    "print(using_ip)"
   ]
  },
  {
   "cell_type": "code",
   "execution_count": 7,
   "metadata": {},
   "outputs": [],
   "source": [
    "train_df = train_data[train_data.cust_ip_no.isin(using_ip)]\n",
    "test_df = test_data[test_data.cust_ip_no.isin(using_ip)] "
   ]
  },
  {
   "cell_type": "code",
   "execution_count": 8,
   "metadata": {},
   "outputs": [
    {
     "name": "stdout",
     "output_type": "stream",
     "text": [
      "[8938. 9365. 8923. 8939. 8879.]\n",
      "[8938. 8923. 8939.]\n"
     ]
    }
   ],
   "source": [
    "print(train_df[train_df.event == 1].cust_ip_no.unique())\n",
    "print(test_df[test_df.event == 1].cust_ip_no.unique())"
   ]
  },
  {
   "cell_type": "code",
   "execution_count": 9,
   "metadata": {},
   "outputs": [],
   "source": [
    "train_list = [] \n",
    "for i in using_ip:\n",
    "    df = train_df[train_df.cust_ip_no == i]\n",
    "    df.reset_index(drop=True, inplace=True) \n",
    "    train_list.append(df)\n",
    "    \n",
    "\n",
    "test_list = []\n",
    "for i in using_ip:\n",
    "    df = test_df[test_df.cust_ip_no == i]\n",
    "    df.reset_index(drop=True, inplace=True)\n",
    "    test_list.append(df)    "
   ]
  },
  {
   "cell_type": "code",
   "execution_count": 10,
   "metadata": {},
   "outputs": [],
   "source": [
    "from datetime import timedelta, datetime\n",
    "\n",
    "# train data preprocessing\n",
    "gap_dic = {}\n",
    "for ip in range(len(train_list)):\n",
    "    gap_list = []\n",
    "    for data in range(len(train_list[ip])-1):\n",
    "        gap = (datetime.strptime(str(train_list[ip].stamp_inserted[data+1]),'%Y%m%d%H%M%S')) - (datetime.strptime(str(train_list[ip].stamp_inserted[data]),'%Y%m%d%H%M%S'))\n",
    "        if gap > timedelta(minutes=1):\n",
    "            gap_list.append((data))\n",
    "    gap_dic[train_list[ip].cust_ip_no[0]] = gap_list\n",
    "\n",
    "    \n",
    "for ip in gap_dic.keys():\n",
    "    gap_list = []\n",
    "    for i in gap_dic[ip] :\n",
    "        gap_num = i - 5\n",
    "        for j in range(6):\n",
    "            gap_list.append(gap_num+j)\n",
    "    gap_dic[ip] = gap_list\n",
    "\n",
    "    \n",
    "# test data preprocessing    \n",
    "gap_dic_test = {}\n",
    "for ip in range(len(test_list)):\n",
    "    gap_list = []\n",
    "    for data in range(len(test_list[ip])-1):\n",
    "        gap = (datetime.strptime(str(test_list[ip].stamp_inserted[data+1]),'%Y%m%d%H%M%S')) - (datetime.strptime(str(test_list[ip].stamp_inserted[data]),'%Y%m%d%H%M%S'))\n",
    "        if gap > timedelta(minutes=1):\n",
    "            gap_list.append((data))\n",
    "    gap_dic_test[test_list[ip].cust_ip_no[0]] = gap_list\n",
    "\n",
    "    \n",
    "for ip in gap_dic_test.keys():\n",
    "    gap_list = []\n",
    "    for i in gap_dic_test[ip] :\n",
    "        gap_num = i -5\n",
    "        for j in range(6):\n",
    "            gap_list.append(gap_num+j)\n",
    "    gap_dic_test[ip] = gap_list"
   ]
  },
  {
   "cell_type": "code",
   "execution_count": 11,
   "metadata": {},
   "outputs": [
    {
     "name": "stderr",
     "output_type": "stream",
     "text": [
      "100%|██████████████████████████████████████████████████████████████████████████████████| 29/29 [11:23<00:00, 23.56s/it]\n"
     ]
    }
   ],
   "source": [
    "# train: apply log function & diff\n",
    "\n",
    "from tqdm import tqdm\n",
    "seq_time = 6\n",
    "iv = [ 'bytes', 'pkts',\n",
    "       'sip_entropy', 'dip_entropy', 'spt_entropy', 'dpt_entropy',\n",
    "       'proto_entropy', 'icmp_ratio', 'tcp_ratio', 'udp_ratio',\n",
    "       'tcp_flags_entropy', 'domestic_ratio']\n",
    "log_trans = [ 'bytes', 'pkts',\n",
    "       'sip_entropy', 'dip_entropy', 'spt_entropy', 'dpt_entropy']\n",
    "\n",
    "features = len(iv)\n",
    "\n",
    "normal_X = []\n",
    "normal_y = [] \n",
    "\n",
    "for j in tqdm(range(len(train_list))):\n",
    "    normal_data = pd.DataFrame(columns=iv)\n",
    "    normal_label = []\n",
    "    ip = list(gap_dic.keys())[j]\n",
    "    gap = gap_dic[ip]\n",
    "    for i in range(len(train_list[j]) - seq_time):\n",
    "        if i not in gap:\n",
    "            input_x = train_list[j].iloc[i:i+seq_time,3:-1]\n",
    "            input_x[log_trans] = input_x[log_trans]+.1 \n",
    "            input_x[log_trans] = input_x[log_trans].apply(np.log)\n",
    "            input_x = input_x.diff().iloc[1:,:]\n",
    "            label = train_list[j].iloc[i+seq_time-1, -1]\n",
    "            ip_NO = train_list[j].iloc[i+seq_time-1, 2]\n",
    "            time = train_list[j].iloc[i+seq_time-1, 0]\n",
    "\n",
    "            if label == 0:\n",
    "                normal_data = pd.concat([normal_data, input_x], axis=0)\n",
    "                ip_label_set = (time, ip_NO, label)            \n",
    "                normal_label.append(ip_label_set) \n",
    "\n",
    "                \n",
    "    normal_X.append(normal_data) \n",
    "    normal_y.append(normal_label)     "
   ]
  },
  {
   "cell_type": "code",
   "execution_count": 12,
   "metadata": {},
   "outputs": [
    {
     "name": "stderr",
     "output_type": "stream",
     "text": [
      "100%|██████████████████████████████████████████████████████████████████████████████████| 29/29 [11:40<00:00, 24.17s/it]\n"
     ]
    }
   ],
   "source": [
    "from tqdm import tqdm\n",
    "\n",
    "seq_time = 6\n",
    "iv = [ 'bytes', 'pkts',\n",
    "       'sip_entropy', 'dip_entropy', 'spt_entropy', 'dpt_entropy',\n",
    "       'proto_entropy', 'icmp_ratio', 'tcp_ratio', 'udp_ratio',\n",
    "       'tcp_flags_entropy', 'domestic_ratio']\n",
    "log_trans = [ 'bytes', 'pkts',\n",
    "       'sip_entropy', 'dip_entropy', 'spt_entropy', 'dpt_entropy',\n",
    "       'tcp_flags_entropy', 'domestic_ratio']\n",
    "\n",
    "features = len(iv)\n",
    "\n",
    "X_ts = []\n",
    "y_ts = [] \n",
    "\n",
    "\n",
    "for j in tqdm(range(len(test_list))):\n",
    "    ts_data = pd.DataFrame(columns=iv)\n",
    "    ts_label = []\n",
    "    ip = list(gap_dic_test.keys())[j]\n",
    "    gap = gap_dic_test[ip]\n",
    "    \n",
    "    \n",
    "    for i in range(len(test_list[j]) - seq_time):\n",
    "        if i not in gap:\n",
    "            input_x = test_list[j].iloc[i:i+seq_time,3:-1]\n",
    "            input_x[log_trans] = input_x[log_trans]+.1 \n",
    "            input_x[log_trans] = input_x[log_trans].apply(np.log)\n",
    "            input_x = input_x.diff().iloc[1:,:] \n",
    "            label = test_list[j].iloc[i+seq_time-1, -1]\n",
    "            ip_NO = test_list[j].iloc[i+seq_time-1, 2]  \n",
    "            time = test_list[j].iloc[i+seq_time-1, 0]\n",
    "            \n",
    "            ts_data = pd.concat([ts_data, input_x], axis=0)\n",
    "            ip_label_set = (time, ip_NO, label)            \n",
    "            ts_label.append(ip_label_set)         \n",
    "        else: \n",
    "            pass\n",
    "            \n",
    "    X_ts.append(ts_data) \n",
    "    y_ts.append(ts_label) "
   ]
  },
  {
   "cell_type": "code",
   "execution_count": 14,
   "metadata": {},
   "outputs": [],
   "source": [
    "# train: data scaling \n",
    "from sklearn import preprocessing\n",
    "\n",
    "X_normal = pd.DataFrame(columns=iv)\n",
    "for i in normal_X:\n",
    "    i = i.fillna(0)\n",
    "    tmp_input = pd.DataFrame(preprocessing.scale(i.values), columns=iv)\n",
    "    X_normal = pd.concat([X_normal, tmp_input], axis=0)\n",
    "\n",
    "y_normal = []\n",
    "for i in normal_y:\n",
    "    y_normal.extend(i)"
   ]
  },
  {
   "cell_type": "code",
   "execution_count": 15,
   "metadata": {},
   "outputs": [],
   "source": [
    "# test: data scaling\n",
    "from sklearn.preprocessing import MinMaxScaler\n",
    "from sklearn import preprocessing\n",
    "\n",
    "X_ts_ = pd.DataFrame(columns=iv)\n",
    "for i in X_ts:\n",
    "    i = i.fillna(0)\n",
    "    tmp_input = pd.DataFrame(preprocessing.scale(i.values), columns=iv)\n",
    "    X_ts_ = pd.concat([X_ts_, tmp_input], axis=0)\n",
    "\n",
    "y_ts_ = []\n",
    "for i in y_ts:\n",
    "    y_ts_.extend(i)\n"
   ]
  },
  {
   "cell_type": "code",
   "execution_count": 16,
   "metadata": {},
   "outputs": [
    {
     "data": {
      "text/html": [
       "<div>\n",
       "<style scoped>\n",
       "    .dataframe tbody tr th:only-of-type {\n",
       "        vertical-align: middle;\n",
       "    }\n",
       "\n",
       "    .dataframe tbody tr th {\n",
       "        vertical-align: top;\n",
       "    }\n",
       "\n",
       "    .dataframe thead th {\n",
       "        text-align: right;\n",
       "    }\n",
       "</style>\n",
       "<table border=\"1\" class=\"dataframe\">\n",
       "  <thead>\n",
       "    <tr style=\"text-align: right;\">\n",
       "      <th></th>\n",
       "      <th>time</th>\n",
       "      <th>ip</th>\n",
       "      <th>label</th>\n",
       "    </tr>\n",
       "  </thead>\n",
       "  <tbody>\n",
       "    <tr>\n",
       "      <th>0</th>\n",
       "      <td>20200801000500</td>\n",
       "      <td>8187.0</td>\n",
       "      <td>0.0</td>\n",
       "    </tr>\n",
       "    <tr>\n",
       "      <th>1</th>\n",
       "      <td>20200801000600</td>\n",
       "      <td>8187.0</td>\n",
       "      <td>0.0</td>\n",
       "    </tr>\n",
       "    <tr>\n",
       "      <th>2</th>\n",
       "      <td>20200801000700</td>\n",
       "      <td>8187.0</td>\n",
       "      <td>0.0</td>\n",
       "    </tr>\n",
       "    <tr>\n",
       "      <th>3</th>\n",
       "      <td>20200801000800</td>\n",
       "      <td>8187.0</td>\n",
       "      <td>0.0</td>\n",
       "    </tr>\n",
       "    <tr>\n",
       "      <th>4</th>\n",
       "      <td>20200801000900</td>\n",
       "      <td>8187.0</td>\n",
       "      <td>0.0</td>\n",
       "    </tr>\n",
       "  </tbody>\n",
       "</table>\n",
       "</div>"
      ],
      "text/plain": [
       "             time      ip  label\n",
       "0  20200801000500  8187.0    0.0\n",
       "1  20200801000600  8187.0    0.0\n",
       "2  20200801000700  8187.0    0.0\n",
       "3  20200801000800  8187.0    0.0\n",
       "4  20200801000900  8187.0    0.0"
      ]
     },
     "execution_count": 16,
     "metadata": {},
     "output_type": "execute_result"
    }
   ],
   "source": [
    "# data check\n",
    "X_normal = X_normal.values.reshape(-1, 5, 12) \n",
    "train_y_df = pd.DataFrame(y_normal, columns=['time','ip','label'])\n",
    "train_y_df.head()"
   ]
  },
  {
   "cell_type": "code",
   "execution_count": 17,
   "metadata": {},
   "outputs": [],
   "source": [
    "# test df\n",
    "X_ts = X_ts_.values.reshape(-1, 5, 12) \n",
    "y_ts = pd.DataFrame(y_ts_, columns=['time','ip','label'])"
   ]
  },
  {
   "cell_type": "markdown",
   "metadata": {},
   "source": [
    "### CVAE with attention"
   ]
  },
  {
   "cell_type": "code",
   "execution_count": 160,
   "metadata": {},
   "outputs": [],
   "source": [
    "import numpy as np \n",
    "import matplotlib.pyplot as plt\n",
    "import tensorflow as tf\n",
    "from scipy.stats import norm \n",
    "from keras.layers import Input, Dense, Lambda, Flatten, Reshape, Dropout, BatchNormalization\n",
    "from keras.layers import Conv1D, Conv1DTranspose\n",
    "from keras.models import Model, Sequential \n",
    "from keras import backend as K\n",
    "from keras import objectives, metrics, layers\n",
    "import keras\n",
    "from keras.layers import Input, LSTM, RepeatVector, Bidirectional, TimeDistributed\n",
    "from keras.layers.core import Flatten, Dense, Dropout, Lambda\n",
    "from keras.optimizers import SGD, RMSprop, Adam\n",
    "\n",
    "seq_time = 5\n",
    "\n",
    "input_dim = features\n",
    "timesteps = seq_time\n",
    "latent_dim = 12\n",
    "epsilon_std = 1.0\n",
    "kernel_s = 3\n",
    "adam = Adam(lr=1e-5)\n",
    "lrelu = layers.LeakyReLU(alpha=0.3)\n",
    "relu = layers.ReLU\n",
    "\n",
    "\n",
    "x = Input(shape=(5, 12))\n",
    "xx = Flatten()(x)\n",
    "\n",
    "Enc = Sequential([x,\n",
    "    layers.Conv1D(filters=36, kernel_size=kernel_s, padding='same', strides=1),\n",
    "    #layers.BatchNormalization(),\n",
    "    layers.ReLU(),\n",
    "    layers.Conv1D(filters=48, kernel_size=kernel_s, padding='same',strides=1),\n",
    "    #layers.BatchNormalization(),\n",
    "    layers.ReLU(),\n",
    "    layers.Conv1D(filters=36, kernel_size=kernel_s, padding='same',strides=1),\n",
    "    layers.ReLU(),\n",
    "    layers.Flatten()]) \n",
    "\n",
    "z_mean1 = Dense(latent_dim)(Enc(x))  \n",
    "z_log_var1 = Dense(latent_dim)(Enc(x)) \n",
    "z_mean2 = Dense(latent_dim)(Enc(x))  \n",
    "z_log_var2 = Dense(latent_dim)(Enc(x)) \n",
    "z_mean3 = Dense(latent_dim)(Enc(x))  \n",
    "z_log_var3 = Dense(latent_dim)(Enc(x)) \n",
    "attention = Dense(3, activation='softmax')(Enc(x))\n",
    "\n",
    "\n",
    "\n",
    "\n",
    "def sampling(args):\n",
    "    z_mean, z_log_var = args\n",
    "    epsilon = K.random_normal(shape=(K.shape(z_mean)[0], latent_dim), mean=0.,\n",
    "                                stddev = 1.)\n",
    "    return z_mean + K.exp(z_log_var/2) *epsilon\n",
    "\n",
    "\n",
    "\n",
    "z1 = Lambda(sampling, output_shape=(latent_dim,))([z_mean1, z_log_var1])\n",
    "z2 = Lambda(sampling, output_shape=(latent_dim,))([z_mean2, z_log_var2])\n",
    "z3 = Lambda(sampling, output_shape=(latent_dim,))([z_mean3, z_log_var3])\n",
    "\n",
    "\n",
    "z = (tf.reshape(attention[:,0], (-1,1))*z1 + tf.reshape(attention[:,1], (-1,1))*z2 \n",
    "     + tf.reshape(attention[:,2], (-1,1))*z3 )\n",
    "\n",
    "\n",
    "new_z =  Dense(60, activation='relu')(z)\n",
    "new_z = tf.reshape(new_z,[-1, 5, 12])\n",
    "Dec = Sequential([\n",
    "    Conv1DTranspose(filters=36, kernel_size=kernel_s, padding='same', strides=1, activation='relu'),\n",
    "    #ayers.BatchNormalization(),\n",
    "    layers.Conv1DTranspose(filters=48, kernel_size=kernel_s, padding='same', strides=1, activation='relu'),\n",
    "    #ayers.BatchNormalization(),\n",
    "    #layers.Conv1DTranspose(filters=36, kernel_size=kernel_s, padding='same', strides=1, activation='relu'),\n",
    "    #layers.BatchNormalization(),\n",
    "    layers.Conv1DTranspose(filters=12, kernel_size=kernel_s, padding='same')])\n",
    "    #layers.BatchNormalization()])\n",
    "\n",
    "\n",
    "x_hat = Dec(new_z)\n",
    "x_hh = Flatten()(x_hat) \n",
    "\n",
    "cvae = Model(x, x_hat) \n",
    "cvae.compile(optimizer=adam, loss='rmse')\n",
    "cvae_encoder = Model(x, z)\n",
    "#soft_m = Model(x, attention)\n",
    "xent_loss = 100 * objectives.mse(xx, x_hh) \n",
    "kl_loss1 = -0.5 * K.sum(1+z_log_var1 - K.square(z_mean1) - K.exp(z_log_var1), axis=-1)\n",
    "kl_loss2 = -0.5 * K.sum(1+z_log_var2 - K.square(z_mean2) - K.exp(z_log_var2), axis=-1)\n",
    "kl_loss3 = -0.5 * K.sum(1+z_log_var3 - K.square(z_mean3) - K.exp(z_log_var3), axis=-1)\n",
    "kl_loss = (kl_loss1 + kl_loss2 + kl_loss3)\n",
    "vae_loss = K.mean(0.5*xent_loss + 0.5*kl_loss) \n",
    "cvae.add_loss(vae_loss) \n",
    "cvae.compile(optimizer=adam)  \n",
    "#cvae.summary()"
   ]
  },
  {
   "cell_type": "code",
   "execution_count": 161,
   "metadata": {
    "scrolled": true
   },
   "outputs": [
    {
     "name": "stdout",
     "output_type": "stream",
     "text": [
      "Epoch 1/50\n",
      "2052/2052 - 12s - loss: 60.3537 - val_loss: 50.3679\n",
      "Epoch 2/50\n",
      "2052/2052 - 10s - loss: 53.0131 - val_loss: 50.2193\n",
      "Epoch 3/50\n",
      "2052/2052 - 10s - loss: 51.6585 - val_loss: 50.1546\n",
      "Epoch 4/50\n",
      "2052/2052 - 10s - loss: 50.8944 - val_loss: 50.1074\n",
      "Epoch 5/50\n",
      "2052/2052 - 10s - loss: 50.5528 - val_loss: 50.0660\n",
      "Epoch 6/50\n",
      "2052/2052 - 10s - loss: 50.3718 - val_loss: 50.0291\n",
      "Epoch 7/50\n",
      "2052/2052 - 10s - loss: 50.2735 - val_loss: 49.9927\n",
      "Epoch 8/50\n",
      "2052/2052 - 10s - loss: 50.2115 - val_loss: 49.9607\n",
      "Epoch 9/50\n",
      "2052/2052 - 10s - loss: 50.1706 - val_loss: 49.9240\n",
      "Epoch 10/50\n",
      "2052/2052 - 10s - loss: 50.1304 - val_loss: 49.9017\n",
      "Epoch 11/50\n",
      "2052/2052 - 10s - loss: 50.0918 - val_loss: 49.8561\n",
      "Epoch 12/50\n",
      "2052/2052 - 10s - loss: 50.1015 - val_loss: 49.8182\n",
      "Epoch 13/50\n",
      "2052/2052 - 10s - loss: 49.9993 - val_loss: 49.6993\n",
      "Epoch 14/50\n",
      "2052/2052 - 10s - loss: 49.5717 - val_loss: 48.6586\n",
      "Epoch 15/50\n",
      "2052/2052 - 10s - loss: 48.4151 - val_loss: 47.7140\n",
      "Epoch 16/50\n",
      "2052/2052 - 10s - loss: 47.9397 - val_loss: 47.3314\n",
      "Epoch 17/50\n",
      "2052/2052 - 10s - loss: 47.5521 - val_loss: 46.9073\n",
      "Epoch 18/50\n",
      "2052/2052 - 10s - loss: 47.0672 - val_loss: 46.3557\n",
      "Epoch 19/50\n",
      "2052/2052 - 10s - loss: 46.6024 - val_loss: 45.9965\n",
      "Epoch 20/50\n",
      "2052/2052 - 10s - loss: 46.2897 - val_loss: 45.7674\n",
      "Epoch 21/50\n",
      "2052/2052 - 10s - loss: 46.0581 - val_loss: 45.5553\n",
      "Epoch 22/50\n",
      "2052/2052 - 10s - loss: 45.8542 - val_loss: 45.4046\n",
      "Epoch 23/50\n",
      "2052/2052 - 10s - loss: 45.6709 - val_loss: 45.2483\n",
      "Epoch 24/50\n",
      "2052/2052 - 10s - loss: 45.4758 - val_loss: 45.0850\n",
      "Epoch 25/50\n",
      "2052/2052 - 10s - loss: 45.2607 - val_loss: 44.9477\n",
      "Epoch 26/50\n",
      "2052/2052 - 10s - loss: 45.0223 - val_loss: 44.7380\n",
      "Epoch 27/50\n",
      "2052/2052 - 10s - loss: 44.6756 - val_loss: 44.4264\n",
      "Epoch 28/50\n",
      "2052/2052 - 10s - loss: 44.1192 - val_loss: 43.8168\n",
      "Epoch 29/50\n",
      "2052/2052 - 10s - loss: 43.1838 - val_loss: 43.0247\n",
      "Epoch 30/50\n",
      "2052/2052 - 10s - loss: 42.4217 - val_loss: 42.5933\n",
      "Epoch 31/50\n",
      "2052/2052 - 10s - loss: 41.9634 - val_loss: 42.2692\n",
      "Epoch 32/50\n",
      "2052/2052 - 10s - loss: 41.6037 - val_loss: 41.9904\n",
      "Epoch 33/50\n",
      "2052/2052 - 10s - loss: 41.2944 - val_loss: 41.7432\n",
      "Epoch 34/50\n",
      "2052/2052 - 9s - loss: 40.9740 - val_loss: 41.4893\n",
      "Epoch 35/50\n",
      "2052/2052 - 10s - loss: 40.6712 - val_loss: 41.2354\n",
      "Epoch 36/50\n",
      "2052/2052 - 10s - loss: 40.3829 - val_loss: 40.9997\n",
      "Epoch 37/50\n",
      "2052/2052 - 10s - loss: 40.0903 - val_loss: 40.7724\n",
      "Epoch 38/50\n",
      "2052/2052 - 10s - loss: 39.8387 - val_loss: 40.5681\n",
      "Epoch 39/50\n",
      "2052/2052 - 10s - loss: 39.6253 - val_loss: 40.4254\n",
      "Epoch 40/50\n",
      "2052/2052 - 10s - loss: 39.4469 - val_loss: 40.2872\n",
      "Epoch 41/50\n",
      "2052/2052 - 10s - loss: 39.2954 - val_loss: 40.1597\n",
      "Epoch 42/50\n",
      "2052/2052 - 10s - loss: 39.1408 - val_loss: 40.0638\n",
      "Epoch 43/50\n",
      "2052/2052 - 10s - loss: 39.0049 - val_loss: 39.9267\n",
      "Epoch 44/50\n",
      "2052/2052 - 10s - loss: 38.8809 - val_loss: 39.8225\n",
      "Epoch 45/50\n",
      "2052/2052 - 10s - loss: 38.7495 - val_loss: 39.6708\n",
      "Epoch 46/50\n",
      "2052/2052 - 10s - loss: 38.6159 - val_loss: 39.5715\n",
      "Epoch 47/50\n",
      "2052/2052 - 10s - loss: 38.4765 - val_loss: 39.4770\n",
      "Epoch 48/50\n",
      "2052/2052 - 10s - loss: 38.3347 - val_loss: 39.3506\n",
      "Epoch 49/50\n",
      "2052/2052 - 10s - loss: 38.1877 - val_loss: 39.1913\n",
      "Epoch 50/50\n",
      "2052/2052 - 10s - loss: 38.0449 - val_loss: 39.0680\n"
     ]
    }
   ],
   "source": [
    "#60\n",
    "hist = cvae.fit(X_normal, X_normal, epochs=50, validation_split=0.1, batch_size=128, shuffle=True, verbose=2)"
   ]
  },
  {
   "cell_type": "code",
   "execution_count": 162,
   "metadata": {},
   "outputs": [
    {
     "data": {
      "application/vnd.plotly.v1+json": {
       "config": {
        "plotlyServerURL": "https://plot.ly"
       },
       "data": [
        {
         "mode": "lines",
         "name": "loss",
         "type": "scatter",
         "y": [
          60.3537483215332,
          53.013065338134766,
          51.65850830078125,
          50.894351959228516,
          50.55281448364258,
          50.371829986572266,
          50.273460388183594,
          50.211517333984375,
          50.17062759399414,
          50.130428314208984,
          50.091835021972656,
          50.10149383544922,
          49.99931335449219,
          49.571685791015625,
          48.41507339477539,
          47.93968200683594,
          47.55214309692383,
          47.067169189453125,
          46.602378845214844,
          46.28969192504883,
          46.05814743041992,
          45.85420227050781,
          45.670902252197266,
          45.475799560546875,
          45.260650634765625,
          45.02227020263672,
          44.67557144165039,
          44.119224548339844,
          43.1838493347168,
          42.421669006347656,
          41.96342468261719,
          41.60371398925781,
          41.2944450378418,
          40.974021911621094,
          40.671234130859375,
          40.38287353515625,
          40.09025192260742,
          39.838714599609375,
          39.625343322753906,
          39.44685745239258,
          39.29539108276367,
          39.14083480834961,
          39.004905700683594,
          38.880916595458984,
          38.74946975708008,
          38.61589050292969,
          38.47649002075195,
          38.33472442626953,
          38.18767166137695,
          38.04487228393555
         ]
        },
        {
         "mode": "lines",
         "name": "val_loss",
         "type": "scatter",
         "y": [
          50.36789321899414,
          50.219329833984375,
          50.154598236083984,
          50.107421875,
          50.065956115722656,
          50.029052734375,
          49.992740631103516,
          49.960655212402344,
          49.924007415771484,
          49.90165710449219,
          49.8560676574707,
          49.8182258605957,
          49.69932174682617,
          48.65855407714844,
          47.71403884887695,
          47.331390380859375,
          46.90733337402344,
          46.355712890625,
          45.99653244018555,
          45.767417907714844,
          45.55530548095703,
          45.40457534790039,
          45.248252868652344,
          45.084999084472656,
          44.94765853881836,
          44.738006591796875,
          44.42638397216797,
          43.8167839050293,
          43.024654388427734,
          42.59330749511719,
          42.26923751831055,
          41.99044418334961,
          41.743167877197266,
          41.48931884765625,
          41.23535919189453,
          40.999691009521484,
          40.772396087646484,
          40.56814956665039,
          40.42540740966797,
          40.28724670410156,
          40.159706115722656,
          40.063846588134766,
          39.92674255371094,
          39.822471618652344,
          39.67082214355469,
          39.57145309448242,
          39.47697067260742,
          39.35062026977539,
          39.191307067871094,
          39.067962646484375
         ]
        }
       ],
       "layout": {
        "height": 400,
        "template": {
         "data": {
          "bar": [
           {
            "error_x": {
             "color": "#2a3f5f"
            },
            "error_y": {
             "color": "#2a3f5f"
            },
            "marker": {
             "line": {
              "color": "#E5ECF6",
              "width": 0.5
             }
            },
            "type": "bar"
           }
          ],
          "barpolar": [
           {
            "marker": {
             "line": {
              "color": "#E5ECF6",
              "width": 0.5
             }
            },
            "type": "barpolar"
           }
          ],
          "carpet": [
           {
            "aaxis": {
             "endlinecolor": "#2a3f5f",
             "gridcolor": "white",
             "linecolor": "white",
             "minorgridcolor": "white",
             "startlinecolor": "#2a3f5f"
            },
            "baxis": {
             "endlinecolor": "#2a3f5f",
             "gridcolor": "white",
             "linecolor": "white",
             "minorgridcolor": "white",
             "startlinecolor": "#2a3f5f"
            },
            "type": "carpet"
           }
          ],
          "choropleth": [
           {
            "colorbar": {
             "outlinewidth": 0,
             "ticks": ""
            },
            "type": "choropleth"
           }
          ],
          "contour": [
           {
            "colorbar": {
             "outlinewidth": 0,
             "ticks": ""
            },
            "colorscale": [
             [
              0,
              "#0d0887"
             ],
             [
              0.1111111111111111,
              "#46039f"
             ],
             [
              0.2222222222222222,
              "#7201a8"
             ],
             [
              0.3333333333333333,
              "#9c179e"
             ],
             [
              0.4444444444444444,
              "#bd3786"
             ],
             [
              0.5555555555555556,
              "#d8576b"
             ],
             [
              0.6666666666666666,
              "#ed7953"
             ],
             [
              0.7777777777777778,
              "#fb9f3a"
             ],
             [
              0.8888888888888888,
              "#fdca26"
             ],
             [
              1,
              "#f0f921"
             ]
            ],
            "type": "contour"
           }
          ],
          "contourcarpet": [
           {
            "colorbar": {
             "outlinewidth": 0,
             "ticks": ""
            },
            "type": "contourcarpet"
           }
          ],
          "heatmap": [
           {
            "colorbar": {
             "outlinewidth": 0,
             "ticks": ""
            },
            "colorscale": [
             [
              0,
              "#0d0887"
             ],
             [
              0.1111111111111111,
              "#46039f"
             ],
             [
              0.2222222222222222,
              "#7201a8"
             ],
             [
              0.3333333333333333,
              "#9c179e"
             ],
             [
              0.4444444444444444,
              "#bd3786"
             ],
             [
              0.5555555555555556,
              "#d8576b"
             ],
             [
              0.6666666666666666,
              "#ed7953"
             ],
             [
              0.7777777777777778,
              "#fb9f3a"
             ],
             [
              0.8888888888888888,
              "#fdca26"
             ],
             [
              1,
              "#f0f921"
             ]
            ],
            "type": "heatmap"
           }
          ],
          "heatmapgl": [
           {
            "colorbar": {
             "outlinewidth": 0,
             "ticks": ""
            },
            "colorscale": [
             [
              0,
              "#0d0887"
             ],
             [
              0.1111111111111111,
              "#46039f"
             ],
             [
              0.2222222222222222,
              "#7201a8"
             ],
             [
              0.3333333333333333,
              "#9c179e"
             ],
             [
              0.4444444444444444,
              "#bd3786"
             ],
             [
              0.5555555555555556,
              "#d8576b"
             ],
             [
              0.6666666666666666,
              "#ed7953"
             ],
             [
              0.7777777777777778,
              "#fb9f3a"
             ],
             [
              0.8888888888888888,
              "#fdca26"
             ],
             [
              1,
              "#f0f921"
             ]
            ],
            "type": "heatmapgl"
           }
          ],
          "histogram": [
           {
            "marker": {
             "colorbar": {
              "outlinewidth": 0,
              "ticks": ""
             }
            },
            "type": "histogram"
           }
          ],
          "histogram2d": [
           {
            "colorbar": {
             "outlinewidth": 0,
             "ticks": ""
            },
            "colorscale": [
             [
              0,
              "#0d0887"
             ],
             [
              0.1111111111111111,
              "#46039f"
             ],
             [
              0.2222222222222222,
              "#7201a8"
             ],
             [
              0.3333333333333333,
              "#9c179e"
             ],
             [
              0.4444444444444444,
              "#bd3786"
             ],
             [
              0.5555555555555556,
              "#d8576b"
             ],
             [
              0.6666666666666666,
              "#ed7953"
             ],
             [
              0.7777777777777778,
              "#fb9f3a"
             ],
             [
              0.8888888888888888,
              "#fdca26"
             ],
             [
              1,
              "#f0f921"
             ]
            ],
            "type": "histogram2d"
           }
          ],
          "histogram2dcontour": [
           {
            "colorbar": {
             "outlinewidth": 0,
             "ticks": ""
            },
            "colorscale": [
             [
              0,
              "#0d0887"
             ],
             [
              0.1111111111111111,
              "#46039f"
             ],
             [
              0.2222222222222222,
              "#7201a8"
             ],
             [
              0.3333333333333333,
              "#9c179e"
             ],
             [
              0.4444444444444444,
              "#bd3786"
             ],
             [
              0.5555555555555556,
              "#d8576b"
             ],
             [
              0.6666666666666666,
              "#ed7953"
             ],
             [
              0.7777777777777778,
              "#fb9f3a"
             ],
             [
              0.8888888888888888,
              "#fdca26"
             ],
             [
              1,
              "#f0f921"
             ]
            ],
            "type": "histogram2dcontour"
           }
          ],
          "mesh3d": [
           {
            "colorbar": {
             "outlinewidth": 0,
             "ticks": ""
            },
            "type": "mesh3d"
           }
          ],
          "parcoords": [
           {
            "line": {
             "colorbar": {
              "outlinewidth": 0,
              "ticks": ""
             }
            },
            "type": "parcoords"
           }
          ],
          "pie": [
           {
            "automargin": true,
            "type": "pie"
           }
          ],
          "scatter": [
           {
            "marker": {
             "colorbar": {
              "outlinewidth": 0,
              "ticks": ""
             }
            },
            "type": "scatter"
           }
          ],
          "scatter3d": [
           {
            "line": {
             "colorbar": {
              "outlinewidth": 0,
              "ticks": ""
             }
            },
            "marker": {
             "colorbar": {
              "outlinewidth": 0,
              "ticks": ""
             }
            },
            "type": "scatter3d"
           }
          ],
          "scattercarpet": [
           {
            "marker": {
             "colorbar": {
              "outlinewidth": 0,
              "ticks": ""
             }
            },
            "type": "scattercarpet"
           }
          ],
          "scattergeo": [
           {
            "marker": {
             "colorbar": {
              "outlinewidth": 0,
              "ticks": ""
             }
            },
            "type": "scattergeo"
           }
          ],
          "scattergl": [
           {
            "marker": {
             "colorbar": {
              "outlinewidth": 0,
              "ticks": ""
             }
            },
            "type": "scattergl"
           }
          ],
          "scattermapbox": [
           {
            "marker": {
             "colorbar": {
              "outlinewidth": 0,
              "ticks": ""
             }
            },
            "type": "scattermapbox"
           }
          ],
          "scatterpolar": [
           {
            "marker": {
             "colorbar": {
              "outlinewidth": 0,
              "ticks": ""
             }
            },
            "type": "scatterpolar"
           }
          ],
          "scatterpolargl": [
           {
            "marker": {
             "colorbar": {
              "outlinewidth": 0,
              "ticks": ""
             }
            },
            "type": "scatterpolargl"
           }
          ],
          "scatterternary": [
           {
            "marker": {
             "colorbar": {
              "outlinewidth": 0,
              "ticks": ""
             }
            },
            "type": "scatterternary"
           }
          ],
          "surface": [
           {
            "colorbar": {
             "outlinewidth": 0,
             "ticks": ""
            },
            "colorscale": [
             [
              0,
              "#0d0887"
             ],
             [
              0.1111111111111111,
              "#46039f"
             ],
             [
              0.2222222222222222,
              "#7201a8"
             ],
             [
              0.3333333333333333,
              "#9c179e"
             ],
             [
              0.4444444444444444,
              "#bd3786"
             ],
             [
              0.5555555555555556,
              "#d8576b"
             ],
             [
              0.6666666666666666,
              "#ed7953"
             ],
             [
              0.7777777777777778,
              "#fb9f3a"
             ],
             [
              0.8888888888888888,
              "#fdca26"
             ],
             [
              1,
              "#f0f921"
             ]
            ],
            "type": "surface"
           }
          ],
          "table": [
           {
            "cells": {
             "fill": {
              "color": "#EBF0F8"
             },
             "line": {
              "color": "white"
             }
            },
            "header": {
             "fill": {
              "color": "#C8D4E3"
             },
             "line": {
              "color": "white"
             }
            },
            "type": "table"
           }
          ]
         },
         "layout": {
          "annotationdefaults": {
           "arrowcolor": "#2a3f5f",
           "arrowhead": 0,
           "arrowwidth": 1
          },
          "autotypenumbers": "strict",
          "coloraxis": {
           "colorbar": {
            "outlinewidth": 0,
            "ticks": ""
           }
          },
          "colorscale": {
           "diverging": [
            [
             0,
             "#8e0152"
            ],
            [
             0.1,
             "#c51b7d"
            ],
            [
             0.2,
             "#de77ae"
            ],
            [
             0.3,
             "#f1b6da"
            ],
            [
             0.4,
             "#fde0ef"
            ],
            [
             0.5,
             "#f7f7f7"
            ],
            [
             0.6,
             "#e6f5d0"
            ],
            [
             0.7,
             "#b8e186"
            ],
            [
             0.8,
             "#7fbc41"
            ],
            [
             0.9,
             "#4d9221"
            ],
            [
             1,
             "#276419"
            ]
           ],
           "sequential": [
            [
             0,
             "#0d0887"
            ],
            [
             0.1111111111111111,
             "#46039f"
            ],
            [
             0.2222222222222222,
             "#7201a8"
            ],
            [
             0.3333333333333333,
             "#9c179e"
            ],
            [
             0.4444444444444444,
             "#bd3786"
            ],
            [
             0.5555555555555556,
             "#d8576b"
            ],
            [
             0.6666666666666666,
             "#ed7953"
            ],
            [
             0.7777777777777778,
             "#fb9f3a"
            ],
            [
             0.8888888888888888,
             "#fdca26"
            ],
            [
             1,
             "#f0f921"
            ]
           ],
           "sequentialminus": [
            [
             0,
             "#0d0887"
            ],
            [
             0.1111111111111111,
             "#46039f"
            ],
            [
             0.2222222222222222,
             "#7201a8"
            ],
            [
             0.3333333333333333,
             "#9c179e"
            ],
            [
             0.4444444444444444,
             "#bd3786"
            ],
            [
             0.5555555555555556,
             "#d8576b"
            ],
            [
             0.6666666666666666,
             "#ed7953"
            ],
            [
             0.7777777777777778,
             "#fb9f3a"
            ],
            [
             0.8888888888888888,
             "#fdca26"
            ],
            [
             1,
             "#f0f921"
            ]
           ]
          },
          "colorway": [
           "#636efa",
           "#EF553B",
           "#00cc96",
           "#ab63fa",
           "#FFA15A",
           "#19d3f3",
           "#FF6692",
           "#B6E880",
           "#FF97FF",
           "#FECB52"
          ],
          "font": {
           "color": "#2a3f5f"
          },
          "geo": {
           "bgcolor": "white",
           "lakecolor": "white",
           "landcolor": "#E5ECF6",
           "showlakes": true,
           "showland": true,
           "subunitcolor": "white"
          },
          "hoverlabel": {
           "align": "left"
          },
          "hovermode": "closest",
          "mapbox": {
           "style": "light"
          },
          "paper_bgcolor": "white",
          "plot_bgcolor": "#E5ECF6",
          "polar": {
           "angularaxis": {
            "gridcolor": "white",
            "linecolor": "white",
            "ticks": ""
           },
           "bgcolor": "#E5ECF6",
           "radialaxis": {
            "gridcolor": "white",
            "linecolor": "white",
            "ticks": ""
           }
          },
          "scene": {
           "xaxis": {
            "backgroundcolor": "#E5ECF6",
            "gridcolor": "white",
            "gridwidth": 2,
            "linecolor": "white",
            "showbackground": true,
            "ticks": "",
            "zerolinecolor": "white"
           },
           "yaxis": {
            "backgroundcolor": "#E5ECF6",
            "gridcolor": "white",
            "gridwidth": 2,
            "linecolor": "white",
            "showbackground": true,
            "ticks": "",
            "zerolinecolor": "white"
           },
           "zaxis": {
            "backgroundcolor": "#E5ECF6",
            "gridcolor": "white",
            "gridwidth": 2,
            "linecolor": "white",
            "showbackground": true,
            "ticks": "",
            "zerolinecolor": "white"
           }
          },
          "shapedefaults": {
           "line": {
            "color": "#2a3f5f"
           }
          },
          "ternary": {
           "aaxis": {
            "gridcolor": "white",
            "linecolor": "white",
            "ticks": ""
           },
           "baxis": {
            "gridcolor": "white",
            "linecolor": "white",
            "ticks": ""
           },
           "bgcolor": "#E5ECF6",
           "caxis": {
            "gridcolor": "white",
            "linecolor": "white",
            "ticks": ""
           }
          },
          "title": {
           "x": 0.05
          },
          "xaxis": {
           "automargin": true,
           "gridcolor": "white",
           "linecolor": "white",
           "ticks": "",
           "title": {
            "standoff": 15
           },
           "zerolinecolor": "white",
           "zerolinewidth": 2
          },
          "yaxis": {
           "automargin": true,
           "gridcolor": "white",
           "linecolor": "white",
           "ticks": "",
           "title": {
            "standoff": 15
           },
           "zerolinecolor": "white",
           "zerolinewidth": 2
          }
         }
        },
        "title": {
         "text": "loss of CVAE"
        },
        "width": 600
       }
      },
      "text/html": [
       "<div>                            <div id=\"04bc6398-afab-4b00-842a-c4050c24505a\" class=\"plotly-graph-div\" style=\"height:400px; width:600px;\"></div>            <script type=\"text/javascript\">                require([\"plotly\"], function(Plotly) {                    window.PLOTLYENV=window.PLOTLYENV || {};                                    if (document.getElementById(\"04bc6398-afab-4b00-842a-c4050c24505a\")) {                    Plotly.newPlot(                        \"04bc6398-afab-4b00-842a-c4050c24505a\",                        [{\"mode\": \"lines\", \"name\": \"loss\", \"type\": \"scatter\", \"y\": [60.3537483215332, 53.013065338134766, 51.65850830078125, 50.894351959228516, 50.55281448364258, 50.371829986572266, 50.273460388183594, 50.211517333984375, 50.17062759399414, 50.130428314208984, 50.091835021972656, 50.10149383544922, 49.99931335449219, 49.571685791015625, 48.41507339477539, 47.93968200683594, 47.55214309692383, 47.067169189453125, 46.602378845214844, 46.28969192504883, 46.05814743041992, 45.85420227050781, 45.670902252197266, 45.475799560546875, 45.260650634765625, 45.02227020263672, 44.67557144165039, 44.119224548339844, 43.1838493347168, 42.421669006347656, 41.96342468261719, 41.60371398925781, 41.2944450378418, 40.974021911621094, 40.671234130859375, 40.38287353515625, 40.09025192260742, 39.838714599609375, 39.625343322753906, 39.44685745239258, 39.29539108276367, 39.14083480834961, 39.004905700683594, 38.880916595458984, 38.74946975708008, 38.61589050292969, 38.47649002075195, 38.33472442626953, 38.18767166137695, 38.04487228393555]}, {\"mode\": \"lines\", \"name\": \"val_loss\", \"type\": \"scatter\", \"y\": [50.36789321899414, 50.219329833984375, 50.154598236083984, 50.107421875, 50.065956115722656, 50.029052734375, 49.992740631103516, 49.960655212402344, 49.924007415771484, 49.90165710449219, 49.8560676574707, 49.8182258605957, 49.69932174682617, 48.65855407714844, 47.71403884887695, 47.331390380859375, 46.90733337402344, 46.355712890625, 45.99653244018555, 45.767417907714844, 45.55530548095703, 45.40457534790039, 45.248252868652344, 45.084999084472656, 44.94765853881836, 44.738006591796875, 44.42638397216797, 43.8167839050293, 43.024654388427734, 42.59330749511719, 42.26923751831055, 41.99044418334961, 41.743167877197266, 41.48931884765625, 41.23535919189453, 40.999691009521484, 40.772396087646484, 40.56814956665039, 40.42540740966797, 40.28724670410156, 40.159706115722656, 40.063846588134766, 39.92674255371094, 39.822471618652344, 39.67082214355469, 39.57145309448242, 39.47697067260742, 39.35062026977539, 39.191307067871094, 39.067962646484375]}],                        {\"height\": 400, \"template\": {\"data\": {\"bar\": [{\"error_x\": {\"color\": \"#2a3f5f\"}, \"error_y\": {\"color\": \"#2a3f5f\"}, \"marker\": {\"line\": {\"color\": \"#E5ECF6\", \"width\": 0.5}}, \"type\": \"bar\"}], \"barpolar\": [{\"marker\": {\"line\": {\"color\": \"#E5ECF6\", \"width\": 0.5}}, \"type\": \"barpolar\"}], \"carpet\": [{\"aaxis\": {\"endlinecolor\": \"#2a3f5f\", \"gridcolor\": \"white\", \"linecolor\": \"white\", \"minorgridcolor\": \"white\", \"startlinecolor\": \"#2a3f5f\"}, \"baxis\": {\"endlinecolor\": \"#2a3f5f\", \"gridcolor\": \"white\", \"linecolor\": \"white\", \"minorgridcolor\": \"white\", \"startlinecolor\": \"#2a3f5f\"}, \"type\": \"carpet\"}], \"choropleth\": [{\"colorbar\": {\"outlinewidth\": 0, \"ticks\": \"\"}, \"type\": \"choropleth\"}], \"contour\": [{\"colorbar\": {\"outlinewidth\": 0, \"ticks\": \"\"}, \"colorscale\": [[0.0, \"#0d0887\"], [0.1111111111111111, \"#46039f\"], [0.2222222222222222, \"#7201a8\"], [0.3333333333333333, \"#9c179e\"], [0.4444444444444444, \"#bd3786\"], [0.5555555555555556, \"#d8576b\"], [0.6666666666666666, \"#ed7953\"], [0.7777777777777778, \"#fb9f3a\"], [0.8888888888888888, \"#fdca26\"], [1.0, \"#f0f921\"]], \"type\": \"contour\"}], \"contourcarpet\": [{\"colorbar\": {\"outlinewidth\": 0, \"ticks\": \"\"}, \"type\": \"contourcarpet\"}], \"heatmap\": [{\"colorbar\": {\"outlinewidth\": 0, \"ticks\": \"\"}, \"colorscale\": [[0.0, \"#0d0887\"], [0.1111111111111111, \"#46039f\"], [0.2222222222222222, \"#7201a8\"], [0.3333333333333333, \"#9c179e\"], [0.4444444444444444, \"#bd3786\"], [0.5555555555555556, \"#d8576b\"], [0.6666666666666666, \"#ed7953\"], [0.7777777777777778, \"#fb9f3a\"], [0.8888888888888888, \"#fdca26\"], [1.0, \"#f0f921\"]], \"type\": \"heatmap\"}], \"heatmapgl\": [{\"colorbar\": {\"outlinewidth\": 0, \"ticks\": \"\"}, \"colorscale\": [[0.0, \"#0d0887\"], [0.1111111111111111, \"#46039f\"], [0.2222222222222222, \"#7201a8\"], [0.3333333333333333, \"#9c179e\"], [0.4444444444444444, \"#bd3786\"], [0.5555555555555556, \"#d8576b\"], [0.6666666666666666, \"#ed7953\"], [0.7777777777777778, \"#fb9f3a\"], [0.8888888888888888, \"#fdca26\"], [1.0, \"#f0f921\"]], \"type\": \"heatmapgl\"}], \"histogram\": [{\"marker\": {\"colorbar\": {\"outlinewidth\": 0, \"ticks\": \"\"}}, \"type\": \"histogram\"}], \"histogram2d\": [{\"colorbar\": {\"outlinewidth\": 0, \"ticks\": \"\"}, \"colorscale\": [[0.0, \"#0d0887\"], [0.1111111111111111, \"#46039f\"], [0.2222222222222222, \"#7201a8\"], [0.3333333333333333, \"#9c179e\"], [0.4444444444444444, \"#bd3786\"], [0.5555555555555556, \"#d8576b\"], [0.6666666666666666, \"#ed7953\"], [0.7777777777777778, \"#fb9f3a\"], [0.8888888888888888, \"#fdca26\"], [1.0, \"#f0f921\"]], \"type\": \"histogram2d\"}], \"histogram2dcontour\": [{\"colorbar\": {\"outlinewidth\": 0, \"ticks\": \"\"}, \"colorscale\": [[0.0, \"#0d0887\"], [0.1111111111111111, \"#46039f\"], [0.2222222222222222, \"#7201a8\"], [0.3333333333333333, \"#9c179e\"], [0.4444444444444444, \"#bd3786\"], [0.5555555555555556, \"#d8576b\"], [0.6666666666666666, \"#ed7953\"], [0.7777777777777778, \"#fb9f3a\"], [0.8888888888888888, \"#fdca26\"], [1.0, \"#f0f921\"]], \"type\": \"histogram2dcontour\"}], \"mesh3d\": [{\"colorbar\": {\"outlinewidth\": 0, \"ticks\": \"\"}, \"type\": \"mesh3d\"}], \"parcoords\": [{\"line\": {\"colorbar\": {\"outlinewidth\": 0, \"ticks\": \"\"}}, \"type\": \"parcoords\"}], \"pie\": [{\"automargin\": true, \"type\": \"pie\"}], \"scatter\": [{\"marker\": {\"colorbar\": {\"outlinewidth\": 0, \"ticks\": \"\"}}, \"type\": \"scatter\"}], \"scatter3d\": [{\"line\": {\"colorbar\": {\"outlinewidth\": 0, \"ticks\": \"\"}}, \"marker\": {\"colorbar\": {\"outlinewidth\": 0, \"ticks\": \"\"}}, \"type\": \"scatter3d\"}], \"scattercarpet\": [{\"marker\": {\"colorbar\": {\"outlinewidth\": 0, \"ticks\": \"\"}}, \"type\": \"scattercarpet\"}], \"scattergeo\": [{\"marker\": {\"colorbar\": {\"outlinewidth\": 0, \"ticks\": \"\"}}, \"type\": \"scattergeo\"}], \"scattergl\": [{\"marker\": {\"colorbar\": {\"outlinewidth\": 0, \"ticks\": \"\"}}, \"type\": \"scattergl\"}], \"scattermapbox\": [{\"marker\": {\"colorbar\": {\"outlinewidth\": 0, \"ticks\": \"\"}}, \"type\": \"scattermapbox\"}], \"scatterpolar\": [{\"marker\": {\"colorbar\": {\"outlinewidth\": 0, \"ticks\": \"\"}}, \"type\": \"scatterpolar\"}], \"scatterpolargl\": [{\"marker\": {\"colorbar\": {\"outlinewidth\": 0, \"ticks\": \"\"}}, \"type\": \"scatterpolargl\"}], \"scatterternary\": [{\"marker\": {\"colorbar\": {\"outlinewidth\": 0, \"ticks\": \"\"}}, \"type\": \"scatterternary\"}], \"surface\": [{\"colorbar\": {\"outlinewidth\": 0, \"ticks\": \"\"}, \"colorscale\": [[0.0, \"#0d0887\"], [0.1111111111111111, \"#46039f\"], [0.2222222222222222, \"#7201a8\"], [0.3333333333333333, \"#9c179e\"], [0.4444444444444444, \"#bd3786\"], [0.5555555555555556, \"#d8576b\"], [0.6666666666666666, \"#ed7953\"], [0.7777777777777778, \"#fb9f3a\"], [0.8888888888888888, \"#fdca26\"], [1.0, \"#f0f921\"]], \"type\": \"surface\"}], \"table\": [{\"cells\": {\"fill\": {\"color\": \"#EBF0F8\"}, \"line\": {\"color\": \"white\"}}, \"header\": {\"fill\": {\"color\": \"#C8D4E3\"}, \"line\": {\"color\": \"white\"}}, \"type\": \"table\"}]}, \"layout\": {\"annotationdefaults\": {\"arrowcolor\": \"#2a3f5f\", \"arrowhead\": 0, \"arrowwidth\": 1}, \"autotypenumbers\": \"strict\", \"coloraxis\": {\"colorbar\": {\"outlinewidth\": 0, \"ticks\": \"\"}}, \"colorscale\": {\"diverging\": [[0, \"#8e0152\"], [0.1, \"#c51b7d\"], [0.2, \"#de77ae\"], [0.3, \"#f1b6da\"], [0.4, \"#fde0ef\"], [0.5, \"#f7f7f7\"], [0.6, \"#e6f5d0\"], [0.7, \"#b8e186\"], [0.8, \"#7fbc41\"], [0.9, \"#4d9221\"], [1, \"#276419\"]], \"sequential\": [[0.0, \"#0d0887\"], [0.1111111111111111, \"#46039f\"], [0.2222222222222222, \"#7201a8\"], [0.3333333333333333, \"#9c179e\"], [0.4444444444444444, \"#bd3786\"], [0.5555555555555556, \"#d8576b\"], [0.6666666666666666, \"#ed7953\"], [0.7777777777777778, \"#fb9f3a\"], [0.8888888888888888, \"#fdca26\"], [1.0, \"#f0f921\"]], \"sequentialminus\": [[0.0, \"#0d0887\"], [0.1111111111111111, \"#46039f\"], [0.2222222222222222, \"#7201a8\"], [0.3333333333333333, \"#9c179e\"], [0.4444444444444444, \"#bd3786\"], [0.5555555555555556, \"#d8576b\"], [0.6666666666666666, \"#ed7953\"], [0.7777777777777778, \"#fb9f3a\"], [0.8888888888888888, \"#fdca26\"], [1.0, \"#f0f921\"]]}, \"colorway\": [\"#636efa\", \"#EF553B\", \"#00cc96\", \"#ab63fa\", \"#FFA15A\", \"#19d3f3\", \"#FF6692\", \"#B6E880\", \"#FF97FF\", \"#FECB52\"], \"font\": {\"color\": \"#2a3f5f\"}, \"geo\": {\"bgcolor\": \"white\", \"lakecolor\": \"white\", \"landcolor\": \"#E5ECF6\", \"showlakes\": true, \"showland\": true, \"subunitcolor\": \"white\"}, \"hoverlabel\": {\"align\": \"left\"}, \"hovermode\": \"closest\", \"mapbox\": {\"style\": \"light\"}, \"paper_bgcolor\": \"white\", \"plot_bgcolor\": \"#E5ECF6\", \"polar\": {\"angularaxis\": {\"gridcolor\": \"white\", \"linecolor\": \"white\", \"ticks\": \"\"}, \"bgcolor\": \"#E5ECF6\", \"radialaxis\": {\"gridcolor\": \"white\", \"linecolor\": \"white\", \"ticks\": \"\"}}, \"scene\": {\"xaxis\": {\"backgroundcolor\": \"#E5ECF6\", \"gridcolor\": \"white\", \"gridwidth\": 2, \"linecolor\": \"white\", \"showbackground\": true, \"ticks\": \"\", \"zerolinecolor\": \"white\"}, \"yaxis\": {\"backgroundcolor\": \"#E5ECF6\", \"gridcolor\": \"white\", \"gridwidth\": 2, \"linecolor\": \"white\", \"showbackground\": true, \"ticks\": \"\", \"zerolinecolor\": \"white\"}, \"zaxis\": {\"backgroundcolor\": \"#E5ECF6\", \"gridcolor\": \"white\", \"gridwidth\": 2, \"linecolor\": \"white\", \"showbackground\": true, \"ticks\": \"\", \"zerolinecolor\": \"white\"}}, \"shapedefaults\": {\"line\": {\"color\": \"#2a3f5f\"}}, \"ternary\": {\"aaxis\": {\"gridcolor\": \"white\", \"linecolor\": \"white\", \"ticks\": \"\"}, \"baxis\": {\"gridcolor\": \"white\", \"linecolor\": \"white\", \"ticks\": \"\"}, \"bgcolor\": \"#E5ECF6\", \"caxis\": {\"gridcolor\": \"white\", \"linecolor\": \"white\", \"ticks\": \"\"}}, \"title\": {\"x\": 0.05}, \"xaxis\": {\"automargin\": true, \"gridcolor\": \"white\", \"linecolor\": \"white\", \"ticks\": \"\", \"title\": {\"standoff\": 15}, \"zerolinecolor\": \"white\", \"zerolinewidth\": 2}, \"yaxis\": {\"automargin\": true, \"gridcolor\": \"white\", \"linecolor\": \"white\", \"ticks\": \"\", \"title\": {\"standoff\": 15}, \"zerolinecolor\": \"white\", \"zerolinewidth\": 2}}}, \"title\": {\"text\": \"loss of CVAE\"}, \"width\": 600},                        {\"responsive\": true}                    ).then(function(){\n",
       "                            \n",
       "var gd = document.getElementById('04bc6398-afab-4b00-842a-c4050c24505a');\n",
       "var x = new MutationObserver(function (mutations, observer) {{\n",
       "        var display = window.getComputedStyle(gd).display;\n",
       "        if (!display || display === 'none') {{\n",
       "            console.log([gd, 'removed!']);\n",
       "            Plotly.purge(gd);\n",
       "            observer.disconnect();\n",
       "        }}\n",
       "}});\n",
       "\n",
       "// Listen for the removal of the full notebook cells\n",
       "var notebookContainer = gd.closest('#notebook-container');\n",
       "if (notebookContainer) {{\n",
       "    x.observe(notebookContainer, {childList: true});\n",
       "}}\n",
       "\n",
       "// Listen for the clearing of the current output cell\n",
       "var outputEl = gd.closest('.output');\n",
       "if (outputEl) {{\n",
       "    x.observe(outputEl, {childList: true});\n",
       "}}\n",
       "\n",
       "                        })                };                });            </script>        </div>"
      ]
     },
     "metadata": {},
     "output_type": "display_data"
    }
   ],
   "source": [
    "from plotly.offline import plot, iplot \n",
    "import plotly.graph_objects as go\n",
    "\n",
    "loss = hist.history['loss'] \n",
    "val_loss = hist.history['val_loss'] \n",
    "\n",
    "fig = go.Figure()\n",
    "fig.add_trace(go.Scatter(y=loss, mode='lines', name='loss')) \n",
    "fig.add_trace(go.Scatter(y=val_loss, mode='lines', name='val_loss'))\n",
    "fig.update_layout(height=400, width=600, title='loss of CVAE')\n",
    "fig.show() "
   ]
  },
  {
   "cell_type": "code",
   "execution_count": 163,
   "metadata": {},
   "outputs": [],
   "source": [
    "pred_x = cvae.predict(X_normal).reshape(X_normal.shape[0],-1)\n",
    "real = X_normal.reshape(X_normal.shape[0], -1) \n",
    "log_mse = np.log(np.mean(np.power(real-pred_x, 2), axis=1)) \n",
    "mse = np.mean(np.power(real-pred_x, 2), axis=1)\n",
    "train_df_error = pd.DataFrame({'time':train_y_df.time, 'recon_size':mse, 'IP':train_y_df.ip, 'reconstruction_error':log_mse, 'Label':train_y_df.label})\n"
   ]
  },
  {
   "cell_type": "code",
   "execution_count": 164,
   "metadata": {},
   "outputs": [
    {
     "name": "stdout",
     "output_type": "stream",
     "text": [
      "       reconstruction_error     Label\n",
      "count         291779.000000  291779.0\n",
      "mean              -0.853624       0.0\n",
      "std                0.884875       0.0\n",
      "min               -4.551556       0.0\n",
      "25%               -1.373619       0.0\n",
      "50%               -0.839005       0.0\n",
      "75%               -0.317093       0.0\n",
      "max                6.153394       0.0\n",
      "1.8043311570207106\n"
     ]
    }
   ],
   "source": [
    "thr = train_df_error[['reconstruction_error','Label']].describe()\n",
    "error = sorted(train_df_error.reconstruction_error.values, reverse=True)\n",
    "\n",
    "up_to_99_5 = int(round(len(error) * 0.005,0)) \n",
    "up_to_99_5\n",
    "\n",
    "threshold = error[up_to_99_5]\n",
    "max_error = error[0]\n",
    "print(thr)\n",
    "print(threshold) "
   ]
  },
  {
   "cell_type": "code",
   "execution_count": 165,
   "metadata": {},
   "outputs": [
    {
     "name": "stdout",
     "output_type": "stream",
     "text": [
      "[[289097   1834]\n",
      " [     1     77]]\n",
      "              precision    recall  f1-score   support\n",
      "\n",
      "         0.0       1.00      0.99      1.00    290931\n",
      "         1.0       0.04      0.99      0.08        78\n",
      "\n",
      "    accuracy                           0.99    291009\n",
      "   macro avg       0.52      0.99      0.54    291009\n",
      "weighted avg       1.00      0.99      1.00    291009\n",
      "\n"
     ]
    }
   ],
   "source": [
    "from sklearn.metrics import confusion_matrix, classification_report\n",
    "\n",
    "pred_x = cvae.predict(X_ts).reshape(X_ts.shape[0],-1)\n",
    "real = X_ts.reshape(X_ts.shape[0], -1)\n",
    "log_mse = np.log(np.mean(np.power(real-pred_x, 2), axis=1))\n",
    "mse = np.mean(np.power(real-pred_x, 2), axis=1)\n",
    "test_df_error = pd.DataFrame({'time':y_ts.time, 'reconstruction_error':log_mse, 'recon_size':mse, 'Label':y_ts.label, 'IP':y_ts.ip})\n",
    "\n",
    "\n",
    "\n",
    "pred_y = [1 if e > threshold else 0 for e in test_df_error['reconstruction_error'].values]\n",
    "confusion_m = confusion_matrix(y_ts.label, pred_y)\n",
    "classification = classification_report(y_ts.label, pred_y)\n",
    "test_df_error['predicted_y'] = pred_y\n",
    "print(confusion_m)\n",
    "print(classification)"
   ]
  },
  {
   "cell_type": "code",
   "execution_count": 84,
   "metadata": {},
   "outputs": [
    {
     "data": {
      "image/png": "[encoded data removed]",
      "text/plain": [
       "<Figure size 432x288 with 1 Axes>"
      ]
     },
     "metadata": {
      "needs_background": "light"
     },
     "output_type": "display_data"
    }
   ],
   "source": [
    "import matplotlib.pyplot as plt\n",
    "from sklearn.metrics import classification_report, confusion_matrix, auc, roc_curve\n",
    "\n",
    "fpr, tpr, thresholds = roc_curve(test_df_error.Label, pred_y)\n",
    "roc_auc = auc(fpr, tpr)\n",
    "\n",
    "plt.figure() \n",
    "plt.plot(fpr, tpr, label='ROC curve (area = %0.2f)' % roc_auc)\n",
    "plt.plot([0, 1], [0, 1], 'k--')\n",
    "plt.xlim([0.0, 1.0])\n",
    "plt.ylim([0.0, 1.05])\n",
    "plt.xlabel('False Positive Rate')\n",
    "plt.ylabel('True Positive Rate')\n",
    "plt.title('Receiver operating characteristic example')\n",
    "plt.legend(loc=\"lower right\") \n",
    "plt.show()"
   ]
  },
  {
   "cell_type": "code",
   "execution_count": 35,
   "metadata": {},
   "outputs": [],
   "source": [
    "# # comparing the reconstruction distribution \n",
    "# import plotly.figure_factory as ff\n",
    "# from plotly.offline import plot, iplot \n",
    "\n",
    "# test_ddos = test_df_error[test_df_error.Label ==1 ]\n",
    "# test_normal = test_df_error[test_df_error.Label ==0 ]\n",
    "# data = [train_df_error.reconstruction_error, test_ddos.reconstruction_error, test_normal.reconstruction_error]\n",
    "# group = ['train normal', 'test ddos', 'test normal'] \n",
    "# fig = ff.create_distplot(data, group, bin_size=[.2,.2,.2])\n",
    "# fig.update_layout(title='Reconstruction distribution') \n",
    "# fig.show() "
   ]
  },
  {
   "cell_type": "code",
   "execution_count": null,
   "metadata": {},
   "outputs": [],
   "source": []
  },
  {
   "cell_type": "code",
   "execution_count": null,
   "metadata": {},
   "outputs": [],
   "source": []
  },
  {
   "cell_type": "code",
   "execution_count": null,
   "metadata": {},
   "outputs": [],
   "source": []
  },
  {
   "cell_type": "code",
   "execution_count": null,
   "metadata": {},
   "outputs": [],
   "source": []
  },
  {
   "cell_type": "code",
   "execution_count": null,
   "metadata": {},
   "outputs": [],
   "source": []
  }
 ],
 "metadata": {
  "kernelspec": {
   "display_name": "Python 3",
   "language": "python",
   "name": "python3"
  },
  "language_info": {
   "codemirror_mode": {
    "name": "ipython",
    "version": 3
   },
   "file_extension": ".py",
   "mimetype": "text/x-python",
   "name": "python",
   "nbconvert_exporter": "python",
   "pygments_lexer": "ipython3",
   "version": "3.8.5"
  }
 },
 "nbformat": 4,
 "nbformat_minor": 4
}
